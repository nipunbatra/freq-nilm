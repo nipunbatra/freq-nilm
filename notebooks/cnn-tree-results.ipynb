{
 "cells": [
  {
   "cell_type": "code",
   "execution_count": 38,
   "metadata": {},
   "outputs": [],
   "source": [
    "import pandas as pd\n",
    "import sys\n",
    "import numpy as np\n",
    "import matplotlib.pyplot as plt\n",
    "sys.path.append('../code/')\n",
    "%matplotlib inline\n",
    "import itertools\n",
    "from pathlib import Path"
   ]
  },
  {
   "cell_type": "code",
   "execution_count": 41,
   "metadata": {},
   "outputs": [
    {
     "name": "stdout",
     "output_type": "stream",
     "text": [
      "CUDA_VISIBLE_DEVICES=0 python cnn-tree-728.py 7 0.001 20000 0 0 dw hvac fridge dr mw &\n",
      "CUDA_VISIBLE_DEVICES=1 python cnn-tree-728.py 7 0.01 20000 0 0 dw hvac fridge dr mw &\n",
      "CUDA_VISIBLE_DEVICES=2 python cnn-tree-728.py 7 0.001 20000 0 1 dw hvac fridge dr mw &\n",
      "CUDA_VISIBLE_DEVICES=3 python cnn-tree-728.py 7 0.01 20000 0 1 dw hvac fridge dr mw &\n",
      "CUDA_VISIBLE_DEVICES=0 python cnn-tree-728.py 7 0.001 20000 0 2 dw hvac fridge dr mw &\n",
      "CUDA_VISIBLE_DEVICES=1 python cnn-tree-728.py 7 0.01 20000 0 2 dw hvac fridge dr mw &\n",
      "CUDA_VISIBLE_DEVICES=2 python cnn-tree-728.py 7 0.001 20000 0 3 dw hvac fridge dr mw &\n",
      "CUDA_VISIBLE_DEVICES=3 python cnn-tree-728.py 7 0.01 20000 0 3 dw hvac fridge dr mw &\n",
      "CUDA_VISIBLE_DEVICES=0 python cnn-tree-728.py 7 0.001 20000 0 4 dw hvac fridge dr mw &\n",
      "CUDA_VISIBLE_DEVICES=1 python cnn-tree-728.py 7 0.01 20000 0 4 dw hvac fridge dr mw &\n",
      "10\n"
     ]
    }
   ],
   "source": [
    "gid = 0\n",
    "srv = 1\n",
    "c = 0\n",
    "cmd = {}\n",
    "test_error = {}\n",
    "num_iterations = 20000\n",
    "lr = 0.01\n",
    "p = 0\n",
    "for fold_num in range(5):\n",
    "    test_error[fold_num] = {}\n",
    "    for lr in [0.001, 0.01]:\n",
    "        test_error[fold_num][lr] = {}\n",
    "#         for order in list(itertools.permutations(['hvac', 'fridge', 'dr', 'dw', 'mw'])):\n",
    "        order = ('hvac', 'fridge', 'dr', 'dw', 'mw')\n",
    "        order = ('dw', 'hvac', 'fridge', 'dr', 'mw')\n",
    "\n",
    "\n",
    "        o = \"\\', \\'\".join(str(x) for x in order)\n",
    "        directory = \"../code/baseline/cnn-tree/7_28/7/{}/{}/5000/0.0/\".format(fold_num, lr)\n",
    "        filename = \"test-error-[\\'{}\\'].npy\".format(o)\n",
    "\n",
    "\n",
    "        full_path = directory + filename\n",
    "        my_file = Path(full_path)\n",
    "        if not my_file.exists():\n",
    "#             print(fold_num, o)\n",
    "            o = \" \".join(str(x) for x in order)\n",
    "            line = (\"CUDA_VISIBLE_DEVICES={} python cnn-tree-728.py 7 {} {} 0 {} {} &\".format(gid, lr, num_iterations, fold_num, o))\n",
    "            print(line)\n",
    "# #             cmd[c] = line\n",
    "#             with open('../code/0{}{}.sh'.format(srv, gid), 'a') as the_file:\n",
    "#                 the_file.write(\"#!bin/bash \\n\")\n",
    "#                 the_file.write(line)\n",
    "            c += 1\n",
    "            if c%1 == 0:\n",
    "                gid+=1\n",
    "            if gid == 4:\n",
    "                gid = 0\n",
    "                srv += 1\n",
    "        else:\n",
    "            test_error[fold_num][lr][order] = np.load(full_path).item()\n",
    "\n",
    "print(c)                               "
   ]
  },
  {
   "cell_type": "code",
   "execution_count": 33,
   "metadata": {},
   "outputs": [],
   "source": [
    "results = {}\n",
    "iters = {}\n",
    "best_param = {}\n",
    "for fold_num in range(5):\n",
    "    results[fold_num] = {}\n",
    "    best_param[fold_num] = {}\n",
    "for fold_num in range(5):\n",
    "    \n",
    "    best_error = np.inf\n",
    "    for lr in [0.001, 0.01, 0.1, 1.0]:\n",
    "        for order in test_error[fold_num][lr]:\n",
    "            for iters in test_error[fold_num][lr][order]:\n",
    "                cur_error = pd.Series(test_error[fold_num][lr][order][iters]).mean()\n",
    "                if best_error > cur_error:\n",
    "                    best_error = cur_error\n",
    "                    best_param[fold_num]['iters'] = iters\n",
    "                    best_param[fold_num]['order'] = order\n",
    "                    best_param[fold_num]['lr'] = lr\n",
    "\n"
   ]
  },
  {
   "cell_type": "code",
   "execution_count": 34,
   "metadata": {},
   "outputs": [
    {
     "data": {
      "text/plain": [
       "{0: {'iters': 5000, 'order': ('fridge', 'dr', 'hvac', 'dw', 'mw'), 'lr': 0.01},\n",
       " 1: {'iters': 5000, 'order': ('hvac', 'fridge', 'dr', 'mw', 'dw'), 'lr': 0.01},\n",
       " 2: {'iters': 5000, 'order': ('hvac', 'dw', 'fridge', 'mw', 'dr'), 'lr': 0.01},\n",
       " 3: {'iters': 5000, 'order': ('fridge', 'hvac', 'dr', 'dw', 'mw'), 'lr': 0.01},\n",
       " 4: {'iters': 4000, 'order': ('fridge', 'dr', 'dw', 'mw', 'hvac'), 'lr': 0.01}}"
      ]
     },
     "execution_count": 34,
     "metadata": {},
     "output_type": "execute_result"
    }
   ],
   "source": [
    "best_param"
   ]
  },
  {
   "cell_type": "code",
   "execution_count": 16,
   "metadata": {},
   "outputs": [],
   "source": [
    "np.save(\"../code/baseline/result/cnn-tree-param-3hour.npy\", best_param)"
   ]
  },
  {
   "cell_type": "code",
   "execution_count": 35,
   "metadata": {},
   "outputs": [],
   "source": [
    "best_error = {}\n",
    "for fold_num in range(5):\n",
    "    order = best_param[fold_num]['order']\n",
    "    iters = best_param[fold_num]['iters']\n",
    "    lr = best_param[fold_num]['lr']\n",
    "    best_error[fold_num] = test_error[fold_num][lr][order][iters]"
   ]
  },
  {
   "cell_type": "code",
   "execution_count": 36,
   "metadata": {},
   "outputs": [
    {
     "data": {
      "text/plain": [
       "dr        0.232921\n",
       "dw        1.003768\n",
       "fridge    0.705891\n",
       "hvac      4.934534\n",
       "mw        0.128319\n",
       "dtype: float64"
      ]
     },
     "execution_count": 36,
     "metadata": {},
     "output_type": "execute_result"
    }
   ],
   "source": [
    "pd.DataFrame(best_error).T.mean()"
   ]
  },
  {
   "cell_type": "code",
   "execution_count": 29,
   "metadata": {},
   "outputs": [
    {
     "ename": "NameError",
     "evalue": "name 'best_order' is not defined",
     "output_type": "error",
     "traceback": [
      "\u001b[0;31m---------------------------------------------------------------------------\u001b[0m",
      "\u001b[0;31mNameError\u001b[0m                                 Traceback (most recent call last)",
      "\u001b[0;32m<ipython-input-29-066c6d3f68ac>\u001b[0m in \u001b[0;36m<module>\u001b[0;34m\u001b[0m\n\u001b[0;32m----> 1\u001b[0;31m \u001b[0mpd\u001b[0m\u001b[0;34m.\u001b[0m\u001b[0mSeries\u001b[0m\u001b[0;34m(\u001b[0m\u001b[0mresults\u001b[0m\u001b[0;34m[\u001b[0m\u001b[0;36m4\u001b[0m\u001b[0;34m]\u001b[0m\u001b[0;34m[\u001b[0m\u001b[0mbest_order\u001b[0m\u001b[0;34m]\u001b[0m\u001b[0;34m)\u001b[0m\u001b[0;34m\u001b[0m\u001b[0m\n\u001b[0m",
      "\u001b[0;31mNameError\u001b[0m: name 'best_order' is not defined"
     ]
    }
   ],
   "source": [
    "pd.Series(results[4][best_order])"
   ]
  },
  {
   "cell_type": "code",
   "execution_count": 22,
   "metadata": {
    "scrolled": false
   },
   "outputs": [
    {
     "name": "stdout",
     "output_type": "stream",
     "text": [
      "0\n"
     ]
    }
   ],
   "source": [
    "gid = 0\n",
    "srv = 1\n",
    "c = 0\n",
    "cmd = {}\n",
    "test_error = {}\n",
    "num_iterations = 20000\n",
    "lr = 0.01\n",
    "p = 0\n",
    "for fold_num in range(5):\n",
    "    test_error[fold_num] = {}\n",
    "    for lr in [0.01]:\n",
    "        test_error[fold_num][lr] = {}\n",
    "        for order in list(itertools.permutations(['hvac', 'fridge', 'dr', 'dw', 'mw'])):\n",
    "\n",
    "\n",
    "            o = \"\\', \\'\".join(str(x) for x in order)\n",
    "            directory = \"../code/baseline/cnn-tree/1/{}/{}/20000/0.0/\".format(fold_num, lr)\n",
    "            filename = \"test-error-[\\'{}\\'].npy\".format(o)\n",
    "\n",
    "#             print(order)\n",
    "            full_path = directory + filename\n",
    "            my_file = Path(full_path)\n",
    "    #         print(full_path)\n",
    "            if not my_file.exists():\n",
    "    #             print(fold_num, o)\n",
    "                o = \" \".join(str(x) for x in order)\n",
    "                line = (\"CUDA_VISIBLE_DEVICES={} python cnn-tree.py 3 {} {} 0 {} {} &\".format(gid, lr, num_iterations, fold_num, o))\n",
    "                print(line)\n",
    "    # #             cmd[c] = line\n",
    "    #             with open('../code/0{}{}.sh'.format(srv, gid), 'a') as the_file:\n",
    "    #                 the_file.write(\"#!bin/bash \\n\")\n",
    "    #                 the_file.write(line)\n",
    "                c += 1\n",
    "                if c%1 == 0:\n",
    "                    gid+=1\n",
    "                if gid == 4:\n",
    "                    gid = 0\n",
    "                    srv += 1\n",
    "            else:\n",
    "                test_error[fold_num][lr][order] = np.load(full_path).item()\n",
    "\n",
    "print(c)                               "
   ]
  }
 ],
 "metadata": {
  "kernelspec": {
   "display_name": "Python [default]",
   "language": "python",
   "name": "python3"
  },
  "language_info": {
   "codemirror_mode": {
    "name": "ipython",
    "version": 3
   },
   "file_extension": ".py",
   "mimetype": "text/x-python",
   "name": "python",
   "nbconvert_exporter": "python",
   "pygments_lexer": "ipython3",
   "version": "3.6.6"
  }
 },
 "nbformat": 4,
 "nbformat_minor": 2
}
