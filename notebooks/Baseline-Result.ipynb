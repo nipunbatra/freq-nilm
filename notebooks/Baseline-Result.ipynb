{
 "cells": [
  {
   "cell_type": "code",
   "execution_count": 1,
   "metadata": {},
   "outputs": [],
   "source": [
    "import numpy as np\n",
    "import pandas as pd"
   ]
  },
  {
   "cell_type": "markdown",
   "metadata": {},
   "source": [
    "# SC"
   ]
  },
  {
   "cell_type": "code",
   "execution_count": 46,
   "metadata": {},
   "outputs": [],
   "source": [
    "r = {}\n",
    "mean_r = {}\n",
    "for dataset in [7]:\n",
    "    r[dataset] = {}\n",
    "    mean_r[dataset] = {}\n",
    "    for cur_fold in range(5):\n",
    "        r[dataset][cur_fold] = {}\n",
    "        mean_r[dataset][cur_fold] = {}\n",
    "        for num_latent in range(10, 21):\n",
    "            r[dataset][cur_fold][num_latent] = np.load(\"../code/baseline/sc-non-nested/{}/sc-non-valid-error-{}-{}-{}.npy\".format(dataset, dataset, cur_fold, num_latent)).item()\n",
    "            mean_r[dataset][cur_fold][num_latent] = pd.Series(r[dataset][cur_fold][num_latent]).mean()"
   ]
  },
  {
   "cell_type": "code",
   "execution_count": 47,
   "metadata": {},
   "outputs": [],
   "source": [
    "best_result = {}\n",
    "best_param = {}\n",
    "best_mean = {}\n",
    "for cluster in [7]:\n",
    "    best_result[cluster] = {}\n",
    "    best_mean[cluster] = {}\n",
    "    best_param[cluster] = {}\n",
    "    for cur_fold in range(5):\n",
    "        best_result[cluster][cur_fold] = {} "
   ]
  },
  {
   "cell_type": "code",
   "execution_count": 48,
   "metadata": {},
   "outputs": [],
   "source": [
    "for dataset in [7]:\n",
    "    for cur_fold in range(5):\n",
    "        best_param[dataset][cur_fold] = pd.Series(mean_r[dataset][cur_fold]).idxmin()\n",
    "        best_result[dataset][cur_fold] = r[dataset][cur_fold][best_param[dataset][cur_fold]]\n",
    "        best_mean[dataset][cur_fold] = mean_r[dataset][cur_fold][best_param[dataset][cur_fold]]"
   ]
  },
  {
   "cell_type": "code",
   "execution_count": 86,
   "metadata": {
    "collapsed": true
   },
   "outputs": [],
   "source": [
    "np.save(\"../code/baseline/result/sc-non-disc-param.npy\", best_param)"
   ]
  },
  {
   "cell_type": "code",
   "execution_count": 87,
   "metadata": {},
   "outputs": [
    {
     "name": "stdout",
     "output_type": "stream",
     "text": [
      "python baseline-sc-without-disc-nested.py 3 0 2&\n",
      "python baseline-sc-without-disc-nested.py 3 1 45&\n",
      "python baseline-sc-without-disc-nested.py 3 2 37&\n",
      "python baseline-sc-without-disc-nested.py 3 3 33&\n",
      "python baseline-sc-without-disc-nested.py 3 4 3&\n"
     ]
    }
   ],
   "source": [
    "for dataset in [3]:\n",
    "    for cur_fold in range(5):\n",
    "        print(\"python baseline-sc-without-disc-nested.py {} {} {}&\".format(dataset, cur_fold, best_param[dataset][cur_fold]))"
   ]
  },
  {
   "cell_type": "code",
   "execution_count": 49,
   "metadata": {},
   "outputs": [],
   "source": [
    "sc_non_best_param = best_param.copy()\n",
    "sc_non_pred = {}\n",
    "sc_non_gt = {}\n",
    "sc_non_error = {}\n",
    "for cluster in [7]:\n",
    "    sc_non_pred[cluster] = {}\n",
    "    sc_non_gt[cluster] = {}\n",
    "    sc_non_error[cluster] = {}\n",
    "    for cur_fold in range(5):\n",
    "        num_latent = sc_non_best_param[cluster][cur_fold]\n",
    "        sc_non_pred[cluster][cur_fold] = np.load(\"../code/baseline/sc-non-nested/{}/sc-non-test-pred-{}-{}-{}.npy\".format(cluster, cluster, cur_fold, num_latent))\n",
    "        sc_non_error[cluster][cur_fold] = np.load(\"../code/baseline/sc-non-nested/{}/sc-non-test-error-{}-{}-{}.npy\".format(cluster, cluster, cur_fold, num_latent)).item()"
   ]
  },
  {
   "cell_type": "code",
   "execution_count": 89,
   "metadata": {
    "collapsed": true
   },
   "outputs": [],
   "source": [
    "np.save(\"../code/baseline/result/sc-non-disc-pred.npy\", sc_non_pred)\n",
    "np.save(\"../code/baseline/result/sc-non-disc-error.npy\", sc_non_error)"
   ]
  },
  {
   "cell_type": "code",
   "execution_count": 51,
   "metadata": {},
   "outputs": [
    {
     "data": {
      "text/plain": [
       "dr          0.810380\n",
       "dw          1.484255\n",
       "fridge      4.257932\n",
       "hvac        9.727589\n",
       "mw          0.835709\n",
       "residual    8.400146\n",
       "dtype: float64"
      ]
     },
     "execution_count": 51,
     "metadata": {},
     "output_type": "execute_result"
    }
   ],
   "source": [
    "pd.DataFrame(sc_non_error[7]).mean(axis=1)"
   ]
  },
  {
   "cell_type": "markdown",
   "metadata": {},
   "source": [
    "# DSC"
   ]
  },
  {
   "cell_type": "code",
   "execution_count": 74,
   "metadata": {
    "scrolled": false
   },
   "outputs": [],
   "source": [
    "r = {}\n",
    "mean_r = {}\n",
    "for dataset in [1, 3]:\n",
    "    r[dataset] = {}\n",
    "    mean_r[dataset] = {}\n",
    "    for cur_fold in range(5):\n",
    "        r[dataset][cur_fold] = {}\n",
    "        mean_r[dataset][cur_fold] = {}\n",
    "        for num_latent in range(1, 51):\n",
    "            r[dataset][cur_fold][num_latent] = {}\n",
    "            mean_r[dataset][cur_fold][num_latent] = {}\n",
    "            for iters in range(10, 110, 10):\n",
    "                r[dataset][cur_fold][num_latent][iters] = np.load(\"../code/baseline/sc-with-nested/{}/sc-with-valid-error-{}-{}-{}-{}.npy\".format(dataset, dataset, cur_fold, num_latent, iters)).item()\n",
    "                mean_r[dataset][cur_fold][num_latent][iters] = pd.Series(r[dataset][cur_fold][num_latent][iters]).mean()"
   ]
  },
  {
   "cell_type": "code",
   "execution_count": 75,
   "metadata": {
    "collapsed": true
   },
   "outputs": [],
   "source": [
    "best_result = {}\n",
    "best_param = {}\n",
    "best_mean = {}\n",
    "for cluster in [1, 3]:\n",
    "    best_result[cluster] = {}\n",
    "    best_mean[cluster] = {}\n",
    "    best_param[cluster] = {}\n",
    "    for cur_fold in range(5):\n",
    "        best_result[cluster][cur_fold] = {} \n",
    "        best_param[cluster][cur_fold] = {}\n"
   ]
  },
  {
   "cell_type": "code",
   "execution_count": 76,
   "metadata": {},
   "outputs": [],
   "source": [
    "for cluster in [1, 3]:\n",
    "    for cur_fold in range(5):\n",
    "        \n",
    "        #find the best\n",
    "#         temp = pd.DataFrame(mean_r[cluster][cur_fold]).idxmin(axis=1)\n",
    "        best_error = np.Inf\n",
    "        for latent in range(1, 51):\n",
    "            for iters in range(10, 110, 10):\n",
    "                error = mean_r[cluster][cur_fold][latent][iters]\n",
    "                if error < best_error:\n",
    "                    best_error = error\n",
    "                    best_iters = iters\n",
    "                    best_latent = latent\n",
    "            best_param[cluster][cur_fold]['num_latent'] = best_latent\n",
    "            best_param[cluster][cur_fold]['iters'] = best_iters\n",
    "\n",
    "            best_result[cluster][cur_fold] = r[cluster][cur_fold][best_latent][best_iters]\n",
    "            best_mean[cluster][cur_fold] = mean_r[cluster][cur_fold][best_latent][best_iters]"
   ]
  },
  {
   "cell_type": "code",
   "execution_count": 77,
   "metadata": {
    "collapsed": true
   },
   "outputs": [],
   "source": [
    "np.save(\"../code/baseline/result/sc-with-disc-param.npy\", best_param)"
   ]
  },
  {
   "cell_type": "code",
   "execution_count": 78,
   "metadata": {},
   "outputs": [
    {
     "name": "stdout",
     "output_type": "stream",
     "text": [
      "python baseline-sc-with-disc-nested.py 1 0 1 10&\n",
      "python baseline-sc-with-disc-nested.py 1 1 1 10&\n",
      "python baseline-sc-with-disc-nested.py 1 2 1 10&\n",
      "python baseline-sc-with-disc-nested.py 1 3 1 10&\n",
      "python baseline-sc-with-disc-nested.py 1 4 1 60&\n",
      "python baseline-sc-with-disc-nested.py 3 0 2 10&\n",
      "python baseline-sc-with-disc-nested.py 3 1 6 30&\n",
      "python baseline-sc-with-disc-nested.py 3 2 2 10&\n",
      "python baseline-sc-with-disc-nested.py 3 3 1 10&\n",
      "python baseline-sc-with-disc-nested.py 3 4 1 50&\n"
     ]
    }
   ],
   "source": [
    "for dataset in [1, 3]:\n",
    "    for cur_fold in range(5):\n",
    "        num_latent = best_param[dataset][cur_fold]['num_latent']\n",
    "        iters = best_param[dataset][cur_fold]['iters']\n",
    "        print(\"python baseline-sc-with-disc-nested.py {} {} {} {}&\".format(dataset, cur_fold, num_latent, iters))"
   ]
  },
  {
   "cell_type": "code",
   "execution_count": 79,
   "metadata": {},
   "outputs": [],
   "source": [
    "sc_with_best_param = best_param.copy()\n",
    "sc_with_pred = {}\n",
    "sc_with_gt = {}\n",
    "sc_with_error = {}\n",
    "for cluster in [1, 3]:\n",
    "    sc_with_pred[cluster] = {}\n",
    "    sc_with_gt[cluster] = {}\n",
    "    sc_with_error[cluster] = {}\n",
    "    for cur_fold in range(5):\n",
    "        num_latent = sc_with_best_param[cluster][cur_fold]['num_latent']\n",
    "        iters = sc_with_best_param[cluster][cur_fold]['iters']\n",
    "        sc_with_pred[cluster][cur_fold] = np.load(\"../code/baseline/sc-with-nested/{}/sc-with-test-pred-{}-{}-{}-{}.npy\".format(cluster, cluster, cur_fold, num_latent, iters))\n",
    "        sc_with_error[cluster][cur_fold] = np.load(\"../code/baseline/sc-with-nested/{}/sc-with-test-error-{}-{}-{}-{}.npy\".format(cluster, cluster, cur_fold, num_latent, iters)).item()"
   ]
  },
  {
   "cell_type": "code",
   "execution_count": 80,
   "metadata": {
    "collapsed": true
   },
   "outputs": [],
   "source": [
    "np.save(\"../code/baseline/result/DSC-pred.npy\", sc_with_pred)\n",
    "np.save(\"../code/baseline/result/DSC-error.npy\", sc_with_error)"
   ]
  },
  {
   "cell_type": "code",
   "execution_count": 82,
   "metadata": {},
   "outputs": [
    {
     "data": {
      "text/plain": [
       "dr         89.314115\n",
       "dw         36.460210\n",
       "fridge     87.980848\n",
       "hvac      860.845396\n",
       "mw         17.541014\n",
       "dtype: float64"
      ]
     },
     "execution_count": 82,
     "metadata": {},
     "output_type": "execute_result"
    }
   ],
   "source": [
    "pd.DataFrame(sc_with_error[3]).T.mean()"
   ]
  },
  {
   "cell_type": "markdown",
   "metadata": {},
   "source": [
    "# STF"
   ]
  },
  {
   "cell_type": "code",
   "execution_count": 2,
   "metadata": {},
   "outputs": [
    {
     "ename": "FileNotFoundError",
     "evalue": "[Errno 2] No such file or directory: '../code/baseline/stf/6/valid/stf-error-6-0-1-0.01-100.npy'",
     "output_type": "error",
     "traceback": [
      "\u001b[0;31m---------------------------------------------------------------------------\u001b[0m",
      "\u001b[0;31mFileNotFoundError\u001b[0m                         Traceback (most recent call last)",
      "\u001b[0;32m<ipython-input-2-ebe3025f9b93>\u001b[0m in \u001b[0;36m<module>\u001b[0;34m\u001b[0m\n\u001b[1;32m     15\u001b[0m                 \u001b[0mmean_r\u001b[0m\u001b[0;34m[\u001b[0m\u001b[0mdataset\u001b[0m\u001b[0;34m]\u001b[0m\u001b[0;34m[\u001b[0m\u001b[0mcur_fold\u001b[0m\u001b[0;34m]\u001b[0m\u001b[0;34m[\u001b[0m\u001b[0mnum_latent\u001b[0m\u001b[0;34m]\u001b[0m\u001b[0;34m[\u001b[0m\u001b[0mlr\u001b[0m\u001b[0;34m]\u001b[0m \u001b[0;34m=\u001b[0m \u001b[0;34m{\u001b[0m\u001b[0;34m}\u001b[0m\u001b[0;34m\u001b[0m\u001b[0m\n\u001b[1;32m     16\u001b[0m                 \u001b[0;32mfor\u001b[0m \u001b[0miters\u001b[0m \u001b[0;32min\u001b[0m \u001b[0mrange\u001b[0m\u001b[0;34m(\u001b[0m\u001b[0;36m100\u001b[0m\u001b[0;34m,\u001b[0m \u001b[0;36m2600\u001b[0m\u001b[0;34m,\u001b[0m \u001b[0;36m400\u001b[0m\u001b[0;34m)\u001b[0m\u001b[0;34m:\u001b[0m\u001b[0;34m\u001b[0m\u001b[0m\n\u001b[0;32m---> 17\u001b[0;31m                     \u001b[0mr\u001b[0m\u001b[0;34m[\u001b[0m\u001b[0mdataset\u001b[0m\u001b[0;34m]\u001b[0m\u001b[0;34m[\u001b[0m\u001b[0mcur_fold\u001b[0m\u001b[0;34m]\u001b[0m\u001b[0;34m[\u001b[0m\u001b[0mnum_latent\u001b[0m\u001b[0;34m]\u001b[0m\u001b[0;34m[\u001b[0m\u001b[0mlr\u001b[0m\u001b[0;34m]\u001b[0m\u001b[0;34m[\u001b[0m\u001b[0miters\u001b[0m\u001b[0;34m]\u001b[0m \u001b[0;34m=\u001b[0m \u001b[0mnp\u001b[0m\u001b[0;34m.\u001b[0m\u001b[0mload\u001b[0m\u001b[0;34m(\u001b[0m\u001b[0;34m\"../code/baseline/stf/{}/valid/stf-error-{}-{}-{}-{}-{}.npy\"\u001b[0m\u001b[0;34m.\u001b[0m\u001b[0mformat\u001b[0m\u001b[0;34m(\u001b[0m\u001b[0mdataset\u001b[0m\u001b[0;34m,\u001b[0m \u001b[0mdataset\u001b[0m\u001b[0;34m,\u001b[0m \u001b[0mcur_fold\u001b[0m\u001b[0;34m,\u001b[0m \u001b[0mnum_latent\u001b[0m\u001b[0;34m,\u001b[0m \u001b[0mlr\u001b[0m\u001b[0;34m,\u001b[0m \u001b[0miters\u001b[0m\u001b[0;34m)\u001b[0m\u001b[0;34m)\u001b[0m\u001b[0;34m.\u001b[0m\u001b[0mitem\u001b[0m\u001b[0;34m(\u001b[0m\u001b[0;34m)\u001b[0m\u001b[0;34m\u001b[0m\u001b[0m\n\u001b[0m\u001b[1;32m     18\u001b[0m                     \u001b[0mmean_r\u001b[0m\u001b[0;34m[\u001b[0m\u001b[0mdataset\u001b[0m\u001b[0;34m]\u001b[0m\u001b[0;34m[\u001b[0m\u001b[0mcur_fold\u001b[0m\u001b[0;34m]\u001b[0m\u001b[0;34m[\u001b[0m\u001b[0mnum_latent\u001b[0m\u001b[0;34m]\u001b[0m\u001b[0;34m[\u001b[0m\u001b[0mlr\u001b[0m\u001b[0;34m]\u001b[0m\u001b[0;34m[\u001b[0m\u001b[0miters\u001b[0m\u001b[0;34m]\u001b[0m \u001b[0;34m=\u001b[0m \u001b[0mpd\u001b[0m\u001b[0;34m.\u001b[0m\u001b[0mSeries\u001b[0m\u001b[0;34m(\u001b[0m\u001b[0mr\u001b[0m\u001b[0;34m[\u001b[0m\u001b[0mdataset\u001b[0m\u001b[0;34m]\u001b[0m\u001b[0;34m[\u001b[0m\u001b[0mcur_fold\u001b[0m\u001b[0;34m]\u001b[0m\u001b[0;34m[\u001b[0m\u001b[0mnum_latent\u001b[0m\u001b[0;34m]\u001b[0m\u001b[0;34m[\u001b[0m\u001b[0mlr\u001b[0m\u001b[0;34m]\u001b[0m\u001b[0;34m[\u001b[0m\u001b[0miters\u001b[0m\u001b[0;34m]\u001b[0m\u001b[0;34m)\u001b[0m\u001b[0;34m.\u001b[0m\u001b[0mmean\u001b[0m\u001b[0;34m(\u001b[0m\u001b[0;34m)\u001b[0m\u001b[0;34m\u001b[0m\u001b[0m\n",
      "\u001b[0;32m~/anaconda3/lib/python3.6/site-packages/numpy/lib/npyio.py\u001b[0m in \u001b[0;36mload\u001b[0;34m(file, mmap_mode, allow_pickle, fix_imports, encoding)\u001b[0m\n\u001b[1;32m    368\u001b[0m     \u001b[0mown_fid\u001b[0m \u001b[0;34m=\u001b[0m \u001b[0;32mFalse\u001b[0m\u001b[0;34m\u001b[0m\u001b[0m\n\u001b[1;32m    369\u001b[0m     \u001b[0;32mif\u001b[0m \u001b[0misinstance\u001b[0m\u001b[0;34m(\u001b[0m\u001b[0mfile\u001b[0m\u001b[0;34m,\u001b[0m \u001b[0mbasestring\u001b[0m\u001b[0;34m)\u001b[0m\u001b[0;34m:\u001b[0m\u001b[0;34m\u001b[0m\u001b[0m\n\u001b[0;32m--> 370\u001b[0;31m         \u001b[0mfid\u001b[0m \u001b[0;34m=\u001b[0m \u001b[0mopen\u001b[0m\u001b[0;34m(\u001b[0m\u001b[0mfile\u001b[0m\u001b[0;34m,\u001b[0m \u001b[0;34m\"rb\"\u001b[0m\u001b[0;34m)\u001b[0m\u001b[0;34m\u001b[0m\u001b[0m\n\u001b[0m\u001b[1;32m    371\u001b[0m         \u001b[0mown_fid\u001b[0m \u001b[0;34m=\u001b[0m \u001b[0;32mTrue\u001b[0m\u001b[0;34m\u001b[0m\u001b[0m\n\u001b[1;32m    372\u001b[0m     \u001b[0;32melif\u001b[0m \u001b[0mis_pathlib_path\u001b[0m\u001b[0;34m(\u001b[0m\u001b[0mfile\u001b[0m\u001b[0;34m)\u001b[0m\u001b[0;34m:\u001b[0m\u001b[0;34m\u001b[0m\u001b[0m\n",
      "\u001b[0;31mFileNotFoundError\u001b[0m: [Errno 2] No such file or directory: '../code/baseline/stf/6/valid/stf-error-6-0-1-0.01-100.npy'"
     ]
    }
   ],
   "source": [
    "r = {}\n",
    "mean_r = {}\n",
    "for dataset in [6]:\n",
    "    r[dataset] = {}\n",
    "    mean_r[dataset] = {}\n",
    "    for cur_fold in range(5):\n",
    "        r[dataset][cur_fold] = {}\n",
    "        mean_r[dataset][cur_fold] = {}\n",
    "        for num_latent in range(1, 21):\n",
    "            r[dataset][cur_fold][num_latent] = {}\n",
    "            mean_r[dataset][cur_fold][num_latent] = {}\n",
    "            for lr in [0.01, 0.1 ,1 ,2]:\n",
    "                lr = float(lr)\n",
    "                r[dataset][cur_fold][num_latent][lr] = {}\n",
    "                mean_r[dataset][cur_fold][num_latent][lr] = {}\n",
    "                for iters in range(100, 2600, 400):\n",
    "                    r[dataset][cur_fold][num_latent][lr][iters] = np.load(\"../code/baseline/stf/{}/valid/stf-error-{}-{}-{}-{}-{}.npy\".format(dataset, dataset, cur_fold, num_latent, lr, iters)).item()\n",
    "                    mean_r[dataset][cur_fold][num_latent][lr][iters] = pd.Series(r[dataset][cur_fold][num_latent][lr][iters]).mean()"
   ]
  },
  {
   "cell_type": "code",
   "execution_count": 3,
   "metadata": {
    "collapsed": true
   },
   "outputs": [],
   "source": [
    "best_result = {}\n",
    "best_param = {}\n",
    "best_mean = {}\n",
    "for cluster in [1, 2]:\n",
    "    best_result[cluster] = {}\n",
    "    best_mean[cluster] = {}\n",
    "    best_param[cluster] = {}\n",
    "    for cur_fold in range(5):\n",
    "        best_result[cluster][cur_fold] = {} \n",
    "        best_param[cluster][cur_fold] = {}"
   ]
  },
  {
   "cell_type": "code",
   "execution_count": 4,
   "metadata": {
    "collapsed": true
   },
   "outputs": [],
   "source": [
    "for dataset in [1, 2]:\n",
    "    for cur_fold in range(5):\n",
    "        \n",
    "        #find the best\n",
    "        best_error = np.Inf\n",
    "        for num_latent in range(1, 21):\n",
    "            for lr in [0.01, 0.1, 1, 2]:\n",
    "                lr = float(lr)\n",
    "                for iters in range(100, 2600, 400):\n",
    "                    error = mean_r[dataset][cur_fold][num_latent][lr][iters]\n",
    "                    if error < best_error:\n",
    "                        best_error = error\n",
    "                        best_lr = lr\n",
    "                        best_iters = iters\n",
    "                        best_latent = num_latent\n",
    "        \n",
    "        best_param[dataset][cur_fold]['num_latent'] = best_latent\n",
    "        best_param[dataset][cur_fold]['iters'] = best_iters\n",
    "        best_param[dataset][cur_fold]['lr'] = best_lr\n",
    "\n",
    "\n",
    "        \n",
    "        best_result[dataset][cur_fold] = r[dataset][cur_fold][best_latent][best_lr][best_iters]\n",
    "        best_mean[dataset][cur_fold] = mean_r[dataset][cur_fold][best_latent][best_lr][best_iters]"
   ]
  },
  {
   "cell_type": "code",
   "execution_count": 5,
   "metadata": {
    "collapsed": true
   },
   "outputs": [],
   "source": [
    "np.save(\"../code/baseline/result/stf-param.npy\", best_param)"
   ]
  },
  {
   "cell_type": "code",
   "execution_count": 6,
   "metadata": {},
   "outputs": [
    {
     "name": "stdout",
     "output_type": "stream",
     "text": [
      "python baseline-stf-nested.py 1 0 18 0.1 2500 &\n",
      "python baseline-stf-nested.py 1 1 14 2.0 900 &\n",
      "python baseline-stf-nested.py 1 2 15 2.0 500 &\n",
      "python baseline-stf-nested.py 1 3 20 0.1 2500 &\n",
      "python baseline-stf-nested.py 1 4 13 2.0 500 &\n",
      "python baseline-stf-nested.py 2 0 14 1.0 1700 &\n",
      "python baseline-stf-nested.py 2 1 15 2.0 2500 &\n",
      "python baseline-stf-nested.py 2 2 16 2.0 2100 &\n",
      "python baseline-stf-nested.py 2 3 10 1.0 2500 &\n",
      "python baseline-stf-nested.py 2 4 12 2.0 2100 &\n"
     ]
    }
   ],
   "source": [
    "for dataset in [1, 2]:\n",
    "    for cur_fold in range(5):\n",
    "        num_latent = best_param[dataset][cur_fold]['num_latent'] \n",
    "        iters = best_param[dataset][cur_fold]['iters']\n",
    "        lr = best_param[dataset][cur_fold]['lr']\n",
    "        print(\"python baseline-stf-nested.py {} {} {} {} {} &\".format(dataset, cur_fold, num_latent, lr, iters))"
   ]
  },
  {
   "cell_type": "code",
   "execution_count": 7,
   "metadata": {
    "collapsed": true
   },
   "outputs": [],
   "source": [
    "stf_best_param = best_param.copy()\n",
    "stf_pred = {}\n",
    "stf_gt = {}\n",
    "stf_error = {}\n",
    "for cluster in [1, 2]:\n",
    "    stf_pred[cluster] = {}\n",
    "    stf_gt[cluster] = {}\n",
    "    stf_error[cluster] = {}\n",
    "    for cur_fold in range(5):\n",
    "        num_latent = stf_best_param[cluster][cur_fold]['num_latent']\n",
    "        iters = stf_best_param[cluster][cur_fold]['iters']\n",
    "        lr = stf_best_param[cluster][cur_fold]['lr']\n",
    "        stf_pred[cluster][cur_fold] = np.load(\"../code/baseline/stf/{}/test/stf-test-pred-{}-{}-{}-{}-{}.npy\".format(cluster, cluster, cur_fold, num_latent, lr , iters))\n",
    "        stf_error[cluster][cur_fold] = np.load(\"../code/baseline/stf/{}/test/stf-test-error-{}-{}-{}-{}-{}.npy\".format(cluster, cluster, cur_fold, num_latent, lr, iters)).item()"
   ]
  },
  {
   "cell_type": "code",
   "execution_count": 8,
   "metadata": {
    "collapsed": true
   },
   "outputs": [],
   "source": [
    "np.save(\"../code/baseline/result/stf-pred-12.npy\", stf_pred)"
   ]
  },
  {
   "cell_type": "markdown",
   "metadata": {},
   "source": [
    "# MTF"
   ]
  },
  {
   "cell_type": "code",
   "execution_count": 28,
   "metadata": {},
   "outputs": [],
   "source": [
    "r = {}\n",
    "mean_r = {}\n",
    "for dataset in [7]:\n",
    "    r[dataset] = {}\n",
    "    mean_r[dataset] = {}\n",
    "    for cur_fold in range(5):\n",
    "        r[dataset][cur_fold] = {}\n",
    "        mean_r[dataset][cur_fold] = {}\n",
    "        for num_latent in range(10, 21):\n",
    "            r[dataset][cur_fold][num_latent] = {}\n",
    "            mean_r[dataset][cur_fold][num_latent] = {}\n",
    "            for lr in [0.01, 0.1 ,1 ,2]:\n",
    "                lr = float(lr)\n",
    "                r[dataset][cur_fold][num_latent][lr] = {}\n",
    "                mean_r[dataset][cur_fold][num_latent][lr] = {}\n",
    "                for iters in range(100, 2600, 400):\n",
    "                    try:\n",
    "                        r[dataset][cur_fold][num_latent][lr][iters] = np.load(\"../code/baseline/mtf/{}/valid/mtf-error-{}-{}-{}-{}-{}.npy\".format(dataset, dataset, cur_fold, num_latent, lr, iters)).item()\n",
    "                        mean_r[dataset][cur_fold][num_latent][lr][iters] = pd.Series(r[dataset][cur_fold][num_latent][lr][iters]).mean()\n",
    "                    except:\n",
    "                        continue"
   ]
  },
  {
   "cell_type": "code",
   "execution_count": 29,
   "metadata": {},
   "outputs": [],
   "source": [
    "best_result = {}\n",
    "best_param = {}\n",
    "best_mean = {}\n",
    "for cluster in [7]:\n",
    "    best_result[cluster] = {}\n",
    "    best_mean[cluster] = {}\n",
    "    best_param[cluster] = {}\n",
    "    for cur_fold in range(5):\n",
    "        best_result[cluster][cur_fold] = {} \n",
    "        best_param[cluster][cur_fold] = {}"
   ]
  },
  {
   "cell_type": "code",
   "execution_count": 37,
   "metadata": {},
   "outputs": [
    {
     "name": "stdout",
     "output_type": "stream",
     "text": [
      "0 11 2500 0.1\n",
      "1 10 100 2.0\n"
     ]
    }
   ],
   "source": [
    "for dataset in [7]:\n",
    "    for cur_fold in range(2):\n",
    "        \n",
    "        #find the best\n",
    "        best_error = np.Inf\n",
    "        for num_latent in range(10, 21):\n",
    "            for lr in [0.01, 0.1, 1, 2]:\n",
    "                lr = float(lr)\n",
    "                for iters in range(100, 2600, 400):\n",
    "                    try:\n",
    "                        error = mean_r[dataset][cur_fold][num_latent][lr][iters]\n",
    "#                         print(error)\n",
    "                        if error < best_error:\n",
    "                            best_error = error\n",
    "                            best_lr = lr\n",
    "                            best_iters = iters\n",
    "                            best_latent = num_latent\n",
    "                    except:\n",
    "                        continue\n",
    "        \n",
    "        best_param[dataset][cur_fold]['num_latent'] = best_latent\n",
    "        best_param[dataset][cur_fold]['iters'] = best_iters\n",
    "        best_param[dataset][cur_fold]['lr'] = best_lr\n",
    "        print(cur_fold, best_latent, best_iters, best_lr)\n",
    "\n",
    "\n",
    "        \n",
    "        best_result[dataset][cur_fold] = r[dataset][cur_fold][best_latent][best_lr][best_iters]\n",
    "        best_mean[dataset][cur_fold] = mean_r[dataset][cur_fold][best_latent][best_lr][best_iters]"
   ]
  },
  {
   "cell_type": "code",
   "execution_count": 40,
   "metadata": {},
   "outputs": [
    {
     "data": {
      "text/plain": [
       "dr          0.339137\n",
       "dw          1.643877\n",
       "fridge      0.795638\n",
       "hvac        8.702436\n",
       "mw          0.199034\n",
       "residual    5.883476\n",
       "dtype: float64"
      ]
     },
     "execution_count": 40,
     "metadata": {},
     "output_type": "execute_result"
    }
   ],
   "source": [
    "pd.DataFrame(best_result[7]).mean(axis=1)"
   ]
  },
  {
   "cell_type": "code",
   "execution_count": 12,
   "metadata": {
    "collapsed": true
   },
   "outputs": [],
   "source": [
    "np.save(\"../code/baseline/result/mtf-param.npy\", best_param)"
   ]
  },
  {
   "cell_type": "code",
   "execution_count": 13,
   "metadata": {},
   "outputs": [
    {
     "name": "stdout",
     "output_type": "stream",
     "text": [
      "python baseline-mtf-nested.py 1 0 20 0.1 1700 &\n",
      "python baseline-mtf-nested.py 1 1 15 1.0 900 &\n",
      "python baseline-mtf-nested.py 1 2 19 2.0 2500 &\n",
      "python baseline-mtf-nested.py 1 3 7 2.0 100 &\n",
      "python baseline-mtf-nested.py 1 4 13 2.0 2100 &\n",
      "python baseline-mtf-nested.py 2 0 17 1.0 900 &\n",
      "python baseline-mtf-nested.py 2 1 13 2.0 2500 &\n",
      "python baseline-mtf-nested.py 2 2 8 2.0 2100 &\n",
      "python baseline-mtf-nested.py 2 3 11 2.0 2500 &\n",
      "python baseline-mtf-nested.py 2 4 16 1.0 1300 &\n"
     ]
    }
   ],
   "source": [
    "for dataset in [1, 2]:\n",
    "    for cur_fold in range(5):\n",
    "        num_latent = best_param[dataset][cur_fold]['num_latent'] \n",
    "        iters = best_param[dataset][cur_fold]['iters']\n",
    "        lr = best_param[dataset][cur_fold]['lr']\n",
    "        print(\"python baseline-mtf-nested.py {} {} {} {} {} &\".format(dataset, cur_fold, num_latent, lr, iters))"
   ]
  },
  {
   "cell_type": "code",
   "execution_count": 14,
   "metadata": {
    "collapsed": true
   },
   "outputs": [],
   "source": [
    "mtf_best_param = best_param.copy()\n",
    "mtf_pred = {}\n",
    "mtf_gt = {}\n",
    "mtf_error = {}\n",
    "for cluster in [1, 2]:\n",
    "    mtf_pred[cluster] = {}\n",
    "    mtf_gt[cluster] = {}\n",
    "    mtf_error[cluster] = {}\n",
    "    for cur_fold in range(5):\n",
    "        num_latent = mtf_best_param[cluster][cur_fold]['num_latent']\n",
    "        iters = mtf_best_param[cluster][cur_fold]['iters']\n",
    "        lr = mtf_best_param[cluster][cur_fold]['lr']\n",
    "        mtf_pred[cluster][cur_fold] = np.load(\"../code/baseline/mtf/{}/test/mtf-test-pred-{}-{}-{}-{}-{}.npy\".format(cluster, cluster, cur_fold, num_latent, lr , iters))\n",
    "        mtf_error[cluster][cur_fold] = np.load(\"../code/baseline/mtf/{}/test/mtf-test-error-{}-{}-{}-{}-{}.npy\".format(cluster, cluster, cur_fold, num_latent, lr, iters)).item()"
   ]
  },
  {
   "cell_type": "code",
   "execution_count": 15,
   "metadata": {
    "collapsed": true
   },
   "outputs": [],
   "source": [
    "np.save(\"../code/baseline/result/mtf-pred-12.npy\", mtf_pred)"
   ]
  }
 ],
 "metadata": {
  "kernelspec": {
   "display_name": "Python [default]",
   "language": "python",
   "name": "python3"
  },
  "language_info": {
   "codemirror_mode": {
    "name": "ipython",
    "version": 3
   },
   "file_extension": ".py",
   "mimetype": "text/x-python",
   "name": "python",
   "nbconvert_exporter": "python",
   "pygments_lexer": "ipython3",
   "version": "3.6.6"
  }
 },
 "nbformat": 4,
 "nbformat_minor": 2
}
