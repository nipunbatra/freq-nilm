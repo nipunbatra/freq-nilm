{
 "cells": [
  {
   "cell_type": "code",
   "execution_count": 269,
   "metadata": {},
   "outputs": [],
   "source": [
    "import torch\n",
    "from torch.autograd import Variable\n",
    "import numpy as np\n",
    "import torch.nn as nn\n",
    "from torchvision import datasets,transforms\n",
    "import torch.nn.functional as F\n",
    "import sys\n",
    "sys.path.append(\"../code/\")\n",
    "from dataloader import APPLIANCE_ORDER, get_train_test\n",
    "from sklearn.metrics import mean_absolute_error\n",
    "import os\n",
    "import pandas as pd\n",
    "import sys\n",
    "import numpy as np\n",
    "import matplotlib.pyplot as plt\n",
    "sys.path.append('../code/')\n",
    "%matplotlib inline\n",
    "import itertools\n",
    "from pathlib import Path"
   ]
  },
  {
   "cell_type": "markdown",
   "metadata": {},
   "source": [
    "### check the first layer of the tree"
   ]
  },
  {
   "cell_type": "code",
   "execution_count": 430,
   "metadata": {
    "scrolled": false
   },
   "outputs": [
    {
     "name": "stdout",
     "output_type": "stream",
     "text": [
      "0 150 0.0 1 0\n"
     ]
    }
   ],
   "source": [
    "# last step of greedy search\n",
    "gid = 0\n",
    "srv = 1\n",
    "c = 0\n",
    "k = 0\n",
    "p = 0.0\n",
    "\n",
    "dataset = 7\n",
    "for fold_num in range(5):\n",
    "    for lr in [0.001, 0.01, 0.1]:\n",
    "        for iters in [5000]:\n",
    "            for order in list(itertools.permutations(['hvac', 'fridge', 'dr', 'dw', 'mw'], 1)):\n",
    "#                 if order[0] == 'hvac' or order[0] == 'dr' or order[0] == 'mw':\n",
    "#                     continue\n",
    "                for mode in [3, 10, 14]:\n",
    "                    f_name = '{}_7'.format(mode)\n",
    "                    o = \"\\', \\'\".join(str(x) for x in order)\n",
    "                    directory = \"../code/baseline/cnn-tree/{}/{}/{}/{}/{}/{}/\".format(f_name, dataset, fold_num, lr, iters, p)\n",
    "                    filename = \"valid-error-[\\'{}\\'].npy\".format(o)\n",
    "                    k += 1\n",
    "                    full_path = directory + filename\n",
    "                    my_file = Path(full_path)\n",
    "#                     print(full_path)\n",
    "                    if not my_file.exists():\n",
    "                        o = \" \".join(str(x) for x in order)\n",
    "                        line = (\"CUDA_VISIBLE_DEVICES={} python -W ignore cnn-tree-{}7.py {} {} {} {} {} {} &\".format(gid, mode, dataset, lr, iters, p, fold_num, o))\n",
    "\n",
    "                        print(line)\n",
    "                        c+=1\n",
    "#                         with open('../code/0{}{}.sh'.format(srv, gid), 'a') as the_file:\n",
    "#                             the_file.write(\"#!bin/bash\\n\")\n",
    "#                             the_file.write(line)\n",
    "\n",
    "                        if c%1 == 0:\n",
    "                            gid += 1\n",
    "                        if gid == 4:\n",
    "                            gid = 0\n",
    "                            srv += 1\n",
    "                    else:\n",
    "#                         print(line)\n",
    "                        continue\n",
    "print(c, k, c/k, srv, gid)"
   ]
  },
  {
   "cell_type": "code",
   "execution_count": 431,
   "metadata": {},
   "outputs": [
    {
     "data": {
      "text/plain": [
       "'mw'"
      ]
     },
     "execution_count": 431,
     "metadata": {},
     "output_type": "execute_result"
    }
   ],
   "source": [
    "o"
   ]
  },
  {
   "cell_type": "code",
   "execution_count": 16,
   "metadata": {},
   "outputs": [],
   "source": [
    "appliance_contri = {'hvac':0.83003428, 'fridge':0.0827564, 'dr':0.06381463, 'dw':0.01472098, 'mw':0.00867371}"
   ]
  },
  {
   "cell_type": "markdown",
   "metadata": {},
   "source": [
    "### 2nd layer"
   ]
  },
  {
   "cell_type": "code",
   "execution_count": 432,
   "metadata": {},
   "outputs": [
    {
     "name": "stdout",
     "output_type": "stream",
     "text": [
      "0 360 0.0 2 0\n"
     ]
    }
   ],
   "source": [
    "# last step of greedy search\n",
    "gid = 0\n",
    "srv = 2\n",
    "c = 0\n",
    "k = 0\n",
    "p = 0.0\n",
    "\n",
    "dataset = 1\n",
    "for mode in [3, 10, 14]:\n",
    "    for fold_num in range(5):\n",
    "        for lr in [0.001, 0.01, 0.1, 1.0]:\n",
    "            for iters in [20000]:\n",
    "                for order in list(itertools.permutations(['hvac', 'fridge', 'dr', 'dw', 'mw'], 3)):\n",
    "    #                 if order[0] == 'mw' or order[0] == 'dr':\n",
    "    #                     continue;\n",
    "                    if (order[0] == 'fridge' and order[1] == 'hvac') or (order[0] == 'dw' and order[1] == 'hvac'):\n",
    "                    \n",
    "                    \n",
    "                \n",
    "                        f_name = '{}_7'.format(mode)\n",
    "                        o = \"\\', \\'\".join(str(x) for x in order)\n",
    "                        directory = \"../code/baseline/cnn-tree/{}/{}/{}/{}/{}/{}/\".format(f_name, dataset, fold_num, lr, iters, p)\n",
    "                        filename = \"valid-error-[\\'{}\\'].npy\".format(o)\n",
    "                        k += 1\n",
    "                        full_path = directory + filename\n",
    "                        my_file = Path(full_path)\n",
    "                        if not my_file.exists():\n",
    "                            o = \" \".join(str(x) for x in order)\n",
    "                            line = (\"CUDA_VISIBLE_DEVICES={} python -W ignore cnn-tree-{}7.py 1 {} {} {} {} {} &\".format(gid, mode, lr, iters, p, fold_num, o))\n",
    "\n",
    "                            print(line)\n",
    "                            c+=1\n",
    "#                             with open('../code/0{}{}.sh'.format(srv, gid), 'a') as the_file:\n",
    "#                                 the_file.write(\"#!bin/bash\\n\")\n",
    "#                                 the_file.write(line)\n",
    "\n",
    "                            if c%1 == 0:\n",
    "                                gid += 1\n",
    "                            if gid == 4:\n",
    "                                gid = 0\n",
    "                                srv += 1\n",
    "                        else:\n",
    "                            continue\n",
    "print(c, k, c/k, srv, gid)"
   ]
  },
  {
   "cell_type": "code",
   "execution_count": 433,
   "metadata": {},
   "outputs": [
    {
     "data": {
      "text/plain": [
       "\"dw', 'hvac', 'mw\""
      ]
     },
     "execution_count": 433,
     "metadata": {},
     "output_type": "execute_result"
    }
   ],
   "source": [
    "o"
   ]
  },
  {
   "cell_type": "markdown",
   "metadata": {},
   "source": [
    "### 3rd layer"
   ]
  },
  {
   "cell_type": "code",
   "execution_count": 391,
   "metadata": {},
   "outputs": [
    {
     "name": "stdout",
     "output_type": "stream",
     "text": [
      "0 360 0.0 5 0\n"
     ]
    }
   ],
   "source": [
    "# last step of greedy search\n",
    "gid = 0\n",
    "srv = 5\n",
    "c = 0\n",
    "k = 0\n",
    "p = 0.0\n",
    "\n",
    "dataset = 1\n",
    "for mode in [3, 10, 14]:\n",
    "    for fold_num in range(5):\n",
    "        for lr in [0.001, 0.01, 0.1, 1.0]:\n",
    "            for iters in [20000]:\n",
    "                for order in list(itertools.permutations(['hvac', 'fridge', 'dr', 'dw', 'mw'], 4)):\n",
    "    #                 if order[0] == 'mw' or order[0] == 'dr':\n",
    "    #                     continue;\n",
    "                    if (order[0] == 'fridge' and order[1] == 'hvac' and order[2] == 'dr') or (order[0] == 'fridge' and order[1] == 'hvac' and order[2] == 'dw') or (order[0] == 'dw' and order[1] == 'hvac' and order[2] == 'fridge'):\n",
    "                    \n",
    "                    \n",
    "                \n",
    "                        f_name = '{}_7'.format(mode)\n",
    "                        o = \"\\', \\'\".join(str(x) for x in order)\n",
    "                        directory = \"../code/baseline/cnn-tree/{}/{}/{}/{}/{}/{}/\".format(f_name, dataset, fold_num, lr, iters, p)\n",
    "                        filename = \"valid-error-[\\'{}\\'].npy\".format(o)\n",
    "                        k += 1\n",
    "                        full_path = directory + filename\n",
    "                        my_file = Path(full_path)\n",
    "                        if not my_file.exists():\n",
    "                            o = \" \".join(str(x) for x in order)\n",
    "                            line = (\"CUDA_VISIBLE_DEVICES={} python cnn-tree-{}7.py 1 {} {} {} {} {} &\".format(gid, mode, lr, iters, p, fold_num, o))\n",
    "\n",
    "                            print(line)\n",
    "                            c+=1\n",
    "#                             with open('../code/0{}{}.sh'.format(srv, gid), 'a') as the_file:\n",
    "#                                 the_file.write(\"#!bin/bash\\n\")\n",
    "#                                 the_file.write(line)\n",
    "\n",
    "                            if c%1 == 0:\n",
    "                                gid += 1\n",
    "                            if gid == 4:\n",
    "                                gid = 0\n",
    "                                srv += 1\n",
    "                        else:\n",
    "                            continue\n",
    "print(c, k, c/k, srv, gid)"
   ]
  },
  {
   "cell_type": "code",
   "execution_count": 428,
   "metadata": {
    "scrolled": false
   },
   "outputs": [
    {
     "name": "stdout",
     "output_type": "stream",
     "text": [
      "0 180 0.0 0 0\n"
     ]
    }
   ],
   "source": [
    "# last step of greedy search\n",
    "gid = 0\n",
    "srv = 0\n",
    "c = 0\n",
    "k = 0\n",
    "p = 0.0\n",
    "\n",
    "dataset = 1\n",
    "for mode in [3, 10, 14]:\n",
    "    for fold_num in range(5):\n",
    "        for lr in [0.001, 0.01, 0.1, 1.0]:\n",
    "            for iters in [5000]:\n",
    "                for order in list(itertools.permutations(['hvac', 'fridge', 'dr', 'dw', 'mw'], 5)):\n",
    "    #                 if order[0] == 'mw' or order[0] == 'dr':\n",
    "    #                     continue;\n",
    "                    if (order[0] == 'dw' and order[1] == 'hvac' and order[2] == 'fridge' and order[3] == 'dr') or (order[0] == 'fridge' and order[1] == 'hvac' and order[2] == 'dw' and order[3] == 'dr') or (order[0] == 'fridge' and order[1] == 'hvac' and order[2] == 'dr' and order[3] == 'dw'):\n",
    "                    \n",
    "                    \n",
    "                \n",
    "                        f_name = '{}_7'.format(mode)\n",
    "                        o = \"\\', \\'\".join(str(x) for x in order)\n",
    "                        directory = \"../code/baseline/cnn-tree/{}/{}/{}/{}/{}/{}/\".format(f_name, dataset, fold_num, lr, iters, p)\n",
    "                        filename = \"valid-error-[\\'{}\\'].npy\".format(o)\n",
    "                        k += 1\n",
    "#                         print(filename)\n",
    "                        full_path = directory + filename\n",
    "                        my_file = Path(full_path)\n",
    "        \n",
    "                        if not my_file.exists():\n",
    "                            o = \" \".join(str(x) for x in order)\n",
    "                            line = (\"CUDA_VISIBLE_DEVICES={} python -W ignore cnn-tree-{}7.py 1 {} {} {} {} {} &\".format(gid, mode, lr, iters, p, fold_num, o))\n",
    "\n",
    "                            print(line)\n",
    "                            c+=1\n",
    "#                             with open('../code/0{}{}.sh'.format(srv, gid), 'a') as the_file:\n",
    "#                                 the_file.write(\"#!bin/bash\\n\")\n",
    "#                                 the_file.write(line)\n",
    "\n",
    "                            if c%1 == 0:\n",
    "                                gid += 1\n",
    "                            if gid == 4:\n",
    "                                gid = 0\n",
    "                                srv += 1\n",
    "                        else:\n",
    "                            continue\n",
    "print(c, k, c/k, srv, gid)"
   ]
  },
  {
   "cell_type": "code",
   "execution_count": 267,
   "metadata": {},
   "outputs": [
    {
     "name": "stdout",
     "output_type": "stream",
     "text": [
      "nohup sh 010.sh &> 010.out &\n",
      "nohup sh 011.sh &> 011.out &\n",
      "nohup sh 012.sh &> 012.out &\n",
      "nohup sh 013.sh &> 013.out &\n",
      "nohup sh 020.sh &> 020.out &\n",
      "nohup sh 021.sh &> 021.out &\n",
      "nohup sh 022.sh &> 022.out &\n",
      "nohup sh 023.sh &> 023.out &\n",
      "nohup sh 030.sh &> 030.out &\n",
      "nohup sh 031.sh &> 031.out &\n",
      "nohup sh 032.sh &> 032.out &\n",
      "nohup sh 033.sh &> 033.out &\n",
      "nohup sh 040.sh &> 040.out &\n",
      "nohup sh 041.sh &> 041.out &\n",
      "nohup sh 042.sh &> 042.out &\n",
      "nohup sh 043.sh &> 043.out &\n",
      "nohup sh 050.sh &> 050.out &\n",
      "nohup sh 051.sh &> 051.out &\n",
      "nohup sh 052.sh &> 052.out &\n",
      "nohup sh 053.sh &> 053.out &\n"
     ]
    }
   ],
   "source": [
    "for srv in range(1, 6):\n",
    "    for gid in range(4):\n",
    "        print(\"nohup sh 0{}{}.sh &> 0{}{}.out &\".format(srv, gid, srv, gid))"
   ]
  }
 ],
 "metadata": {
  "kernelspec": {
   "display_name": "Python [default]",
   "language": "python",
   "name": "python3"
  },
  "language_info": {
   "codemirror_mode": {
    "name": "ipython",
    "version": 3
   },
   "file_extension": ".py",
   "mimetype": "text/x-python",
   "name": "python",
   "nbconvert_exporter": "python",
   "pygments_lexer": "ipython3",
   "version": "3.6.6"
  }
 },
 "nbformat": 4,
 "nbformat_minor": 2
}
