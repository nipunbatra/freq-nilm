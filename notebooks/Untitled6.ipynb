{
 "cells": [
  {
   "cell_type": "code",
   "execution_count": 1,
   "metadata": {},
   "outputs": [
    {
     "name": "stderr",
     "output_type": "stream",
     "text": [
      "/zf14/yj9xs/anaconda3/lib/python3.6/site-packages/sklearn/utils/fixes.py:313: FutureWarning: numpy not_equal will not check object identity in the future. The comparison did not return the same result as suggested by the identity (`is`)) and will change.\n",
      "  _nan_object_mask = _nan_object_array != _nan_object_array\n"
     ]
    }
   ],
   "source": [
    "import torch\n",
    "from torch.autograd import Variable\n",
    "import numpy as np\n",
    "import torch.nn as nn\n",
    "from torchvision import datasets,transforms\n",
    "import torch.nn.functional as F\n",
    "import sys\n",
    "sys.path.append(\"../code/\")\n",
    "from dataloader import APPLIANCE_ORDER, get_train_test\n",
    "from sklearn.metrics import mean_absolute_error\n",
    "import os\n",
    "import pandas as pd\n",
    "import sys\n",
    "import numpy as np\n",
    "import matplotlib.pyplot as plt\n",
    "sys.path.append('../code/')\n",
    "%matplotlib inline\n",
    "import itertools\n",
    "from pathlib import Path"
   ]
  },
  {
   "cell_type": "code",
   "execution_count": 60,
   "metadata": {},
   "outputs": [
    {
     "name": "stdout",
     "output_type": "stream",
     "text": [
      "0 30 0.0 1 0\n"
     ]
    }
   ],
   "source": [
    "# last step of greedy search\n",
    "gid = 0\n",
    "srv = 1\n",
    "c = 0\n",
    "k = 0\n",
    "p = 0.0\n",
    "test_error = {}\n",
    "dataset = 1\n",
    "for mode in [3, 10, 14]:\n",
    "    test_error[mode] = {}\n",
    "    for lr in [0.001, 0.01]:\n",
    "        test_error[mode][lr] = {}\n",
    "        for iters in [20000]:\n",
    "            for fold_num in range(5):\n",
    "                f_name = '{}_7'.format(mode)\n",
    "                o = \"hvac', 'fridge', 'dr', 'dw', 'mw\"\n",
    "                directory = \"../code/baseline/cnn-joint/{}/{}/{}/{}/{}/{}/\".format(f_name, dataset, fold_num, lr, iters, p)\n",
    "                filename = \"valid-error-[\\'{}\\'].npy\".format(o)\n",
    "                k += 1\n",
    "                full_path = directory + filename\n",
    "                my_file = Path(full_path)\n",
    "#                 print(full_path)\n",
    "                if not my_file.exists():\n",
    "#                     o = \" \".join(str(x) for x in order)\n",
    "                    line = (\"CUDA_VISIBLE_DEVICES={} python -W ignore cnn-joint-{}7.py {} {} {} {} {} hvac fridge dr dw mw &\".format(gid, mode, dataset, lr, iters, p, fold_num))\n",
    "\n",
    "                    print(line)\n",
    "                    c+=1\n",
    "#                         with open('../code/0{}{}.sh'.format(srv, gid), 'a') as the_file:\n",
    "#                             the_file.write(\"#!bin/bash\\n\")\n",
    "#                             the_file.write(line)\n",
    "\n",
    "                    if c%1 == 0:\n",
    "                        gid += 1\n",
    "                    if gid == 4:\n",
    "                        gid = 0\n",
    "                        srv += 1\n",
    "                else:\n",
    "#                         print(line)\n",
    "                    test_error[mode][lr] = np.load(full_path).item()\n",
    "                    continue\n",
    "print(c, k, c/k, srv, gid)"
   ]
  },
  {
   "cell_type": "code",
   "execution_count": 63,
   "metadata": {},
   "outputs": [
    {
     "data": {
      "text/plain": [
       "1000     96.054341\n",
       "2000     87.720130\n",
       "3000     78.031909\n",
       "4000     69.497296\n",
       "5000     69.243703\n",
       "6000     68.124312\n",
       "7000     68.427990\n",
       "8000     67.950524\n",
       "9000     66.581503\n",
       "10000    67.165300\n",
       "11000    66.321129\n",
       "12000    66.807309\n",
       "13000    66.630132\n",
       "14000    66.134969\n",
       "15000    66.621574\n",
       "16000    66.264240\n",
       "17000    66.816482\n",
       "18000    67.021483\n",
       "19000    66.636798\n",
       "20000    66.427223\n",
       "dtype: float64"
      ]
     },
     "execution_count": 63,
     "metadata": {},
     "output_type": "execute_result"
    }
   ],
   "source": [
    "pd.DataFrame(test_error[14][0.001]).mean(axis=0)"
   ]
  },
  {
   "cell_type": "code",
   "execution_count": null,
   "metadata": {},
   "outputs": [],
   "source": []
  }
 ],
 "metadata": {
  "kernelspec": {
   "display_name": "Python [default]",
   "language": "python",
   "name": "python3"
  },
  "language_info": {
   "codemirror_mode": {
    "name": "ipython",
    "version": 3
   },
   "file_extension": ".py",
   "mimetype": "text/x-python",
   "name": "python",
   "nbconvert_exporter": "python",
   "pygments_lexer": "ipython3",
   "version": "3.6.6"
  }
 },
 "nbformat": 4,
 "nbformat_minor": 2
}
