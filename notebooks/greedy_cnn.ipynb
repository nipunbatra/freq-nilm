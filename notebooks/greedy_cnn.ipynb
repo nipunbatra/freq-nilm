{
 "cells": [
  {
   "cell_type": "code",
   "execution_count": 36,
   "metadata": {},
   "outputs": [],
   "source": [
    "import torch\n",
    "from torch.autograd import Variable\n",
    "import numpy as np\n",
    "import torch.nn as nn\n",
    "from torchvision import datasets,transforms\n",
    "import torch.nn.functional as F\n",
    "import sys\n",
    "sys.path.append(\"../code/\")\n",
    "from dataloader import APPLIANCE_ORDER, get_train_test\n",
    "from sklearn.metrics import mean_absolute_error\n",
    "import os\n",
    "import pandas as pd\n",
    "import sys\n",
    "import numpy as np\n",
    "import matplotlib.pyplot as plt\n",
    "sys.path.append('../code/')\n",
    "%matplotlib inline\n",
    "import itertools\n",
    "from pathlib import Path"
   ]
  },
  {
   "cell_type": "markdown",
   "metadata": {},
   "source": [
    "### 1st layer order"
   ]
  },
  {
   "cell_type": "code",
   "execution_count": 144,
   "metadata": {},
   "outputs": [],
   "source": [
    "gid = 0\n",
    "srv = 8\n",
    "c = 0\n",
    "k = 0\n",
    "dataset = 1\n",
    "test_error = {}\n",
    "for mode in [3, 10, 14]:\n",
    "    test_error[mode] = {}\n",
    "    for fold_num in range(5):\n",
    "        test_error[mode][fold_num] = {}\n",
    "        for lr in [0.001, 0.01]:\n",
    "            test_error[mode][fold_num][lr] = {}\n",
    "            for order in list(itertools.permutations(['hvac', 'fridge', 'dr', 'dw', 'mw'], 1)):\n",
    "                f_name = '{}_7'.format(mode)\n",
    "                o = \"\\', \\'\".join(str(x) for x in order)\n",
    "                directory = \"../code/baseline/cnn-tree/{}/{}/{}/{}/20000/0.0/\".format(f_name, dataset, fold_num, lr)\n",
    "                filename = \"valid-error-[\\'{}\\'].npy\".format(o)\n",
    "                full_path = directory + filename\n",
    "                my_file = Path(full_path)\n",
    "                e = np.load(full_path).item()\n",
    "                test_error[mode][fold_num][lr][order] = {}\n",
    "                for iters in range(1000, 20001, 1000):\n",
    "                    test_error[mode][fold_num][lr][order][iters] = e[iters]"
   ]
  },
  {
   "cell_type": "code",
   "execution_count": 4,
   "metadata": {},
   "outputs": [],
   "source": [
    "appliance_contri = {'hvac':0.83003428, 'fridge':0.0827564, 'dr':0.06381463, 'dw':0.01472098, 'mw':0.00867371}"
   ]
  },
  {
   "cell_type": "code",
   "execution_count": 145,
   "metadata": {},
   "outputs": [],
   "source": [
    "error = {}\n",
    "for mode in [3, 10, 14]:\n",
    "    error[mode] = {}\n",
    "    for fold_num in range(5):\n",
    "        error[mode][fold_num] = {}\n",
    "        for lr in [0.001 ,0.01]:\n",
    "            error[mode][fold_num][lr] = {}\n",
    "            for order in test_error[mode][fold_num][lr].keys():\n",
    "                error[mode][fold_num][lr][order] = {}\n",
    "                for iters in range(1000, 20001, 1000):\n",
    "                    apps = test_error[mode][fold_num][lr][order][iters].keys()\n",
    "                    error[mode][fold_num][lr][order][iters] = 0\n",
    "                    for k in apps:\n",
    "                        error[mode][fold_num][lr][order][iters] += test_error[mode][fold_num][lr][order][iters][k]/appliance_contri[k]"
   ]
  },
  {
   "cell_type": "code",
   "execution_count": 146,
   "metadata": {},
   "outputs": [],
   "source": [
    "b_error = {}\n",
    "for mode in [3, 10, 14]:\n",
    "    b_error[mode] = {}\n",
    "    for fold_num in range(5):\n",
    "        b_error[mode][fold_num] = {}\n",
    "        for lr in [0.001 ,0.01]:\n",
    "            b_error[mode][fold_num][lr] = {}\n",
    "            for order in test_error[mode][fold_num][lr].keys():\n",
    "    #             b_error[fold_num][lr][order] = {}\n",
    "    #             for iters in range(1000, 100001, 1000):\n",
    "                b_error[mode][fold_num][lr][order] = pd.Series(error[mode][fold_num][lr][order]).min()"
   ]
  },
  {
   "cell_type": "code",
   "execution_count": 148,
   "metadata": {},
   "outputs": [
    {
     "data": {
      "text/html": [
       "<div>\n",
       "<style scoped>\n",
       "    .dataframe tbody tr th:only-of-type {\n",
       "        vertical-align: middle;\n",
       "    }\n",
       "\n",
       "    .dataframe tbody tr th {\n",
       "        vertical-align: top;\n",
       "    }\n",
       "\n",
       "    .dataframe thead th {\n",
       "        text-align: right;\n",
       "    }\n",
       "</style>\n",
       "<table border=\"1\" class=\"dataframe\">\n",
       "  <thead>\n",
       "    <tr style=\"text-align: right;\">\n",
       "      <th></th>\n",
       "      <th>0.001</th>\n",
       "      <th>0.01</th>\n",
       "    </tr>\n",
       "  </thead>\n",
       "  <tbody>\n",
       "    <tr>\n",
       "      <th>dr</th>\n",
       "      <td>4283.462674</td>\n",
       "      <td>4186.296805</td>\n",
       "    </tr>\n",
       "    <tr>\n",
       "      <th>dw</th>\n",
       "      <td>3793.215680</td>\n",
       "      <td>3793.093222</td>\n",
       "    </tr>\n",
       "    <tr>\n",
       "      <th>fridge</th>\n",
       "      <td>1664.775863</td>\n",
       "      <td>1686.231292</td>\n",
       "    </tr>\n",
       "    <tr>\n",
       "      <th>hvac</th>\n",
       "      <td>972.115075</td>\n",
       "      <td>953.483620</td>\n",
       "    </tr>\n",
       "    <tr>\n",
       "      <th>mw</th>\n",
       "      <td>6632.347980</td>\n",
       "      <td>6629.968591</td>\n",
       "    </tr>\n",
       "  </tbody>\n",
       "</table>\n",
       "</div>"
      ],
      "text/plain": [
       "              0.001        0.010\n",
       "dr      4283.462674  4186.296805\n",
       "dw      3793.215680  3793.093222\n",
       "fridge  1664.775863  1686.231292\n",
       "hvac     972.115075   953.483620\n",
       "mw      6632.347980  6629.968591"
      ]
     },
     "execution_count": 148,
     "metadata": {},
     "output_type": "execute_result"
    }
   ],
   "source": [
    "mean = {}\n",
    "for mode in [3, 10, 14]:\n",
    "    mean[mode] = 0\n",
    "\n",
    "    for fold in range(5):\n",
    "        mean[mode] += pd.DataFrame(b_error[mode][fold])\n",
    "\n",
    "mean[3]"
   ]
  },
  {
   "cell_type": "code",
   "execution_count": 161,
   "metadata": {},
   "outputs": [],
   "source": [
    "k = {}\n",
    "for i in range(5):\n",
    "    k[i] = pd.DataFrame(test_error[3][i][0.01][('mw',)]).min(axis=1).mean()"
   ]
  },
  {
   "cell_type": "code",
   "execution_count": 162,
   "metadata": {},
   "outputs": [
    {
     "data": {
      "text/plain": [
       "5.960430382770709"
      ]
     },
     "execution_count": 162,
     "metadata": {},
     "output_type": "execute_result"
    }
   ],
   "source": [
    "pd.Series(k).min()"
   ]
  },
  {
   "cell_type": "markdown",
   "metadata": {},
   "source": [
    "### 2nd layer order"
   ]
  },
  {
   "cell_type": "code",
   "execution_count": 8,
   "metadata": {},
   "outputs": [],
   "source": [
    "gid = 0\n",
    "srv = 8\n",
    "c = 0\n",
    "k = 0\n",
    "dataset = 1\n",
    "test_error = {}\n",
    "for mode in [3, 7, 8, 12]:\n",
    "    test_error[mode] = {}\n",
    "    for fold_num in range(5):\n",
    "        test_error[mode][fold_num] = {}\n",
    "        for lr in [0.001, 0.01, 0.1, 1.0]:\n",
    "            test_error[mode][fold_num][lr] = {}\n",
    "            for order in list(itertools.permutations(['hvac', 'fridge', 'dr', 'dw', 'mw'], 2)):\n",
    "                if order[0] == 'dr' or order[0] == 'mw':\n",
    "                    continue\n",
    "                f_name = '7_{}'.format(mode)\n",
    "                o = \"\\', \\'\".join(str(x) for x in order)\n",
    "                directory = \"../code/baseline/cnn-tree/{}/{}/{}/{}/20000/0.0/\".format(f_name, dataset, fold_num, lr)\n",
    "                filename = \"valid-error-[\\'{}\\'].npy\".format(o)\n",
    "                full_path = directory + filename\n",
    "                my_file = Path(full_path)\n",
    "                e = np.load(full_path).item()\n",
    "                test_error[mode][fold_num][lr][order] = {}\n",
    "                for iters in range(1000, 20001, 1000):\n",
    "                    test_error[mode][fold_num][lr][order][iters] = e[iters]"
   ]
  },
  {
   "cell_type": "code",
   "execution_count": 9,
   "metadata": {},
   "outputs": [],
   "source": [
    "error = {}\n",
    "for mode in [3, 7, 8, 12]:\n",
    "    error[mode] = {}\n",
    "    for fold_num in range(5):\n",
    "        error[mode][fold_num] = {}\n",
    "        for lr in [0.001 ,0.01, 0.1, 1.0]:\n",
    "            error[mode][fold_num][lr] = {}\n",
    "            for order in test_error[mode][fold_num][lr].keys():\n",
    "                error[mode][fold_num][lr][order] = {}\n",
    "                for iters in range(1000, 20001, 1000):\n",
    "                    apps = test_error[mode][fold_num][lr][order][iters].keys()\n",
    "                    error[mode][fold_num][lr][order][iters] = 0\n",
    "                    for k in apps:\n",
    "                        error[mode][fold_num][lr][order][iters] += test_error[mode][fold_num][lr][order][iters][k]/appliance_contri[k]"
   ]
  },
  {
   "cell_type": "code",
   "execution_count": 10,
   "metadata": {},
   "outputs": [],
   "source": [
    "b_error = {}\n",
    "for mode in [3, 7, 8, 12]:\n",
    "    b_error[mode] = {}\n",
    "    for fold_num in range(5):\n",
    "        b_error[mode][fold_num] = {}\n",
    "        for lr in [0.001 ,0.01, 0.1, 1.0]:\n",
    "            b_error[mode][fold_num][lr] = {}\n",
    "            for order in test_error[mode][fold_num][lr].keys():\n",
    "                b_error[mode][fold_num][lr][order] = pd.Series(error[mode][fold_num][lr][order]).min()"
   ]
  },
  {
   "cell_type": "code",
   "execution_count": 37,
   "metadata": {},
   "outputs": [],
   "source": [
    "mean = {}\n",
    "for mode in [3, 7, 8, 12]:\n",
    "    mean[mode] = 0\n",
    "\n",
    "    for fold in range(5):\n",
    "        mean[mode] += pd.DataFrame(b_error[mode][fold])"
   ]
  },
  {
   "cell_type": "code",
   "execution_count": 38,
   "metadata": {},
   "outputs": [
    {
     "data": {
      "text/html": [
       "<div>\n",
       "<style scoped>\n",
       "    .dataframe tbody tr th:only-of-type {\n",
       "        vertical-align: middle;\n",
       "    }\n",
       "\n",
       "    .dataframe tbody tr th {\n",
       "        vertical-align: top;\n",
       "    }\n",
       "\n",
       "    .dataframe thead th {\n",
       "        text-align: right;\n",
       "    }\n",
       "</style>\n",
       "<table border=\"1\" class=\"dataframe\">\n",
       "  <thead>\n",
       "    <tr style=\"text-align: right;\">\n",
       "      <th></th>\n",
       "      <th></th>\n",
       "      <th>0.001</th>\n",
       "      <th>0.01</th>\n",
       "      <th>0.1</th>\n",
       "      <th>1.0</th>\n",
       "    </tr>\n",
       "  </thead>\n",
       "  <tbody>\n",
       "    <tr>\n",
       "      <th rowspan=\"4\" valign=\"top\">dw</th>\n",
       "      <th>dr</th>\n",
       "      <td>NaN</td>\n",
       "      <td>NaN</td>\n",
       "      <td>NaN</td>\n",
       "      <td>NaN</td>\n",
       "    </tr>\n",
       "    <tr>\n",
       "      <th>fridge</th>\n",
       "      <td>NaN</td>\n",
       "      <td>NaN</td>\n",
       "      <td>NaN</td>\n",
       "      <td>NaN</td>\n",
       "    </tr>\n",
       "    <tr>\n",
       "      <th>hvac</th>\n",
       "      <td>NaN</td>\n",
       "      <td>NaN</td>\n",
       "      <td>NaN</td>\n",
       "      <td>4760.685832</td>\n",
       "    </tr>\n",
       "    <tr>\n",
       "      <th>mw</th>\n",
       "      <td>NaN</td>\n",
       "      <td>NaN</td>\n",
       "      <td>NaN</td>\n",
       "      <td>NaN</td>\n",
       "    </tr>\n",
       "    <tr>\n",
       "      <th rowspan=\"4\" valign=\"top\">fridge</th>\n",
       "      <th>dr</th>\n",
       "      <td>NaN</td>\n",
       "      <td>NaN</td>\n",
       "      <td>NaN</td>\n",
       "      <td>NaN</td>\n",
       "    </tr>\n",
       "    <tr>\n",
       "      <th>dw</th>\n",
       "      <td>NaN</td>\n",
       "      <td>NaN</td>\n",
       "      <td>NaN</td>\n",
       "      <td>NaN</td>\n",
       "    </tr>\n",
       "    <tr>\n",
       "      <th>hvac</th>\n",
       "      <td>3155.002481</td>\n",
       "      <td>3114.944709</td>\n",
       "      <td>2953.497091</td>\n",
       "      <td>2733.476585</td>\n",
       "    </tr>\n",
       "    <tr>\n",
       "      <th>mw</th>\n",
       "      <td>NaN</td>\n",
       "      <td>NaN</td>\n",
       "      <td>NaN</td>\n",
       "      <td>NaN</td>\n",
       "    </tr>\n",
       "    <tr>\n",
       "      <th rowspan=\"4\" valign=\"top\">hvac</th>\n",
       "      <th>dr</th>\n",
       "      <td>NaN</td>\n",
       "      <td>NaN</td>\n",
       "      <td>NaN</td>\n",
       "      <td>NaN</td>\n",
       "    </tr>\n",
       "    <tr>\n",
       "      <th>dw</th>\n",
       "      <td>NaN</td>\n",
       "      <td>NaN</td>\n",
       "      <td>NaN</td>\n",
       "      <td>NaN</td>\n",
       "    </tr>\n",
       "    <tr>\n",
       "      <th>fridge</th>\n",
       "      <td>3203.310046</td>\n",
       "      <td>3091.940800</td>\n",
       "      <td>2994.143292</td>\n",
       "      <td>2790.366056</td>\n",
       "    </tr>\n",
       "    <tr>\n",
       "      <th>mw</th>\n",
       "      <td>NaN</td>\n",
       "      <td>NaN</td>\n",
       "      <td>NaN</td>\n",
       "      <td>NaN</td>\n",
       "    </tr>\n",
       "  </tbody>\n",
       "</table>\n",
       "</div>"
      ],
      "text/plain": [
       "                     0.001        0.010        0.100        1.000\n",
       "dw     dr              NaN          NaN          NaN          NaN\n",
       "       fridge          NaN          NaN          NaN          NaN\n",
       "       hvac            NaN          NaN          NaN  4760.685832\n",
       "       mw              NaN          NaN          NaN          NaN\n",
       "fridge dr              NaN          NaN          NaN          NaN\n",
       "       dw              NaN          NaN          NaN          NaN\n",
       "       hvac    3155.002481  3114.944709  2953.497091  2733.476585\n",
       "       mw              NaN          NaN          NaN          NaN\n",
       "hvac   dr              NaN          NaN          NaN          NaN\n",
       "       dw              NaN          NaN          NaN          NaN\n",
       "       fridge  3203.310046  3091.940800  2994.143292  2790.366056\n",
       "       mw              NaN          NaN          NaN          NaN"
      ]
     },
     "execution_count": 38,
     "metadata": {},
     "output_type": "execute_result"
    }
   ],
   "source": [
    "mean[12][mean[12] < 4800]"
   ]
  },
  {
   "cell_type": "markdown",
   "metadata": {},
   "source": [
    "### 3rd layer"
   ]
  },
  {
   "cell_type": "code",
   "execution_count": 85,
   "metadata": {},
   "outputs": [],
   "source": [
    "gid = 0\n",
    "srv = 8\n",
    "c = 0\n",
    "k = 0\n",
    "dataset = 1\n",
    "test_error = {}\n",
    "for mode in [3, 10, 14]:\n",
    "    test_error[mode] = {}\n",
    "    for fold_num in range(5):\n",
    "        test_error[mode][fold_num] = {}\n",
    "        for lr in [0.001, 0.01, 0.1, 1.0]:\n",
    "            test_error[mode][fold_num][lr] = {}\n",
    "            for order in list(itertools.permutations(['hvac', 'fridge', 'dr', 'dw', 'mw'], 3)):\n",
    "                if (order[0] == 'fridge' and order[1] == 'hvac') or (order[0] == 'dw' and order[1] == 'hvac'):\n",
    "#                     continue\n",
    "                    f_name = '{}_7'.format(mode)\n",
    "                    o = \"\\', \\'\".join(str(x) for x in order)\n",
    "                    directory = \"../code/baseline/cnn-tree/{}/{}/{}/{}/20000/0.0/\".format(f_name, dataset, fold_num, lr)\n",
    "                    filename = \"valid-error-[\\'{}\\'].npy\".format(o)\n",
    "                    full_path = directory + filename\n",
    "                    my_file = Path(full_path)\n",
    "                    e = np.load(full_path).item()\n",
    "                    test_error[mode][fold_num][lr][order] = {}\n",
    "                    for iters in range(1000, 20001, 1000):\n",
    "                        test_error[mode][fold_num][lr][order][iters] = e[iters]"
   ]
  },
  {
   "cell_type": "code",
   "execution_count": 86,
   "metadata": {},
   "outputs": [],
   "source": [
    "error = {}\n",
    "for mode in [3, 10, 14]:\n",
    "    error[mode] = {}\n",
    "    for fold_num in range(5):\n",
    "        error[mode][fold_num] = {}\n",
    "        for lr in [0.001 ,0.01, 0.1, 1.0]:\n",
    "            error[mode][fold_num][lr] = {}\n",
    "            for order in test_error[mode][fold_num][lr].keys():\n",
    "                error[mode][fold_num][lr][order] = {}\n",
    "                for iters in range(1000, 20001, 1000):\n",
    "                    apps = test_error[mode][fold_num][lr][order][iters].keys()\n",
    "                    error[mode][fold_num][lr][order][iters] = 0\n",
    "                    for k in apps:\n",
    "                        error[mode][fold_num][lr][order][iters] += test_error[mode][fold_num][lr][order][iters][k]/appliance_contri[k]"
   ]
  },
  {
   "cell_type": "code",
   "execution_count": 87,
   "metadata": {},
   "outputs": [],
   "source": [
    "b_error = {}\n",
    "for mode in [3, 10, 14]:\n",
    "    b_error[mode] = {}\n",
    "    for fold_num in range(5):\n",
    "        b_error[mode][fold_num] = {}\n",
    "        for lr in [0.001 ,0.01, 0.1, 1.0]:\n",
    "            b_error[mode][fold_num][lr] = {}\n",
    "            for order in test_error[mode][fold_num][lr].keys():\n",
    "                b_error[mode][fold_num][lr][order] = pd.Series(error[mode][fold_num][lr][order]).min()"
   ]
  },
  {
   "cell_type": "code",
   "execution_count": 88,
   "metadata": {},
   "outputs": [],
   "source": [
    "mean = {}\n",
    "for mode in [3, 10, 14]:\n",
    "    mean[mode] = 0\n",
    "\n",
    "    for fold in range(5):\n",
    "        mean[mode] += pd.DataFrame(b_error[mode][fold])"
   ]
  },
  {
   "cell_type": "code",
   "execution_count": 93,
   "metadata": {},
   "outputs": [
    {
     "data": {
      "text/html": [
       "<div>\n",
       "<style scoped>\n",
       "    .dataframe tbody tr th:only-of-type {\n",
       "        vertical-align: middle;\n",
       "    }\n",
       "\n",
       "    .dataframe tbody tr th {\n",
       "        vertical-align: top;\n",
       "    }\n",
       "\n",
       "    .dataframe thead th {\n",
       "        text-align: right;\n",
       "    }\n",
       "</style>\n",
       "<table border=\"1\" class=\"dataframe\">\n",
       "  <thead>\n",
       "    <tr style=\"text-align: right;\">\n",
       "      <th></th>\n",
       "      <th></th>\n",
       "      <th></th>\n",
       "      <th>0.001</th>\n",
       "      <th>0.01</th>\n",
       "      <th>0.1</th>\n",
       "      <th>1.0</th>\n",
       "    </tr>\n",
       "  </thead>\n",
       "  <tbody>\n",
       "    <tr>\n",
       "      <th rowspan=\"3\" valign=\"top\">dw</th>\n",
       "      <th rowspan=\"3\" valign=\"top\">hvac</th>\n",
       "      <th>dr</th>\n",
       "      <td>NaN</td>\n",
       "      <td>NaN</td>\n",
       "      <td>NaN</td>\n",
       "      <td>NaN</td>\n",
       "    </tr>\n",
       "    <tr>\n",
       "      <th>fridge</th>\n",
       "      <td>7129.780395</td>\n",
       "      <td>6968.286781</td>\n",
       "      <td>7000.554143</td>\n",
       "      <td>6708.814588</td>\n",
       "    </tr>\n",
       "    <tr>\n",
       "      <th>mw</th>\n",
       "      <td>NaN</td>\n",
       "      <td>NaN</td>\n",
       "      <td>NaN</td>\n",
       "      <td>NaN</td>\n",
       "    </tr>\n",
       "    <tr>\n",
       "      <th rowspan=\"3\" valign=\"top\">fridge</th>\n",
       "      <th rowspan=\"3\" valign=\"top\">hvac</th>\n",
       "      <th>dr</th>\n",
       "      <td>NaN</td>\n",
       "      <td>NaN</td>\n",
       "      <td>NaN</td>\n",
       "      <td>7912.300535</td>\n",
       "    </tr>\n",
       "    <tr>\n",
       "      <th>dw</th>\n",
       "      <td>7004.734827</td>\n",
       "      <td>6908.935464</td>\n",
       "      <td>6711.936799</td>\n",
       "      <td>6631.146462</td>\n",
       "    </tr>\n",
       "    <tr>\n",
       "      <th>mw</th>\n",
       "      <td>NaN</td>\n",
       "      <td>NaN</td>\n",
       "      <td>NaN</td>\n",
       "      <td>NaN</td>\n",
       "    </tr>\n",
       "  </tbody>\n",
       "</table>\n",
       "</div>"
      ],
      "text/plain": [
       "                          0.001        0.010        0.100        1.000\n",
       "dw     hvac dr              NaN          NaN          NaN          NaN\n",
       "            fridge  7129.780395  6968.286781  7000.554143  6708.814588\n",
       "            mw              NaN          NaN          NaN          NaN\n",
       "fridge hvac dr              NaN          NaN          NaN  7912.300535\n",
       "            dw      7004.734827  6908.935464  6711.936799  6631.146462\n",
       "            mw              NaN          NaN          NaN          NaN"
      ]
     },
     "execution_count": 93,
     "metadata": {},
     "output_type": "execute_result"
    }
   ],
   "source": [
    "mean[14][mean[14] < 8000]"
   ]
  },
  {
   "cell_type": "markdown",
   "metadata": {},
   "source": [
    "### 4th layer1"
   ]
  },
  {
   "cell_type": "code",
   "execution_count": 95,
   "metadata": {},
   "outputs": [],
   "source": [
    "gid = 0\n",
    "srv = 8\n",
    "c = 0\n",
    "k = 0\n",
    "dataset = 1\n",
    "test_error = {}\n",
    "for mode in [3, 10, 14]:\n",
    "    test_error[mode] = {}\n",
    "    for fold_num in range(5):\n",
    "        test_error[mode][fold_num] = {}\n",
    "        for lr in [0.001, 0.01, 0.1, 1.0]:\n",
    "            test_error[mode][fold_num][lr] = {}\n",
    "            for order in list(itertools.permutations(['hvac', 'fridge', 'dr', 'dw', 'mw'], 4)):\n",
    "                if (order[0] == 'fridge' and order[1] == 'hvac' and order[2] == 'dr') or (order[0] == 'fridge' and order[1] == 'hvac' and order[2] == 'dw') or (order[0] == 'dw' and order[1] == 'hvac' and order[2] == 'fridge'):\n",
    "                    \n",
    "#                     continue\n",
    "                    f_name = '{}_7'.format(mode)\n",
    "                    o = \"\\', \\'\".join(str(x) for x in order)\n",
    "                    directory = \"../code/baseline/cnn-tree/{}/{}/{}/{}/20000/0.0/\".format(f_name, dataset, fold_num, lr)\n",
    "                    filename = \"valid-error-[\\'{}\\'].npy\".format(o)\n",
    "                    full_path = directory + filename\n",
    "                    my_file = Path(full_path)\n",
    "                    e = np.load(full_path).item()\n",
    "                    test_error[mode][fold_num][lr][order] = {}\n",
    "                    for iters in range(1000, 20001, 1000):\n",
    "                        test_error[mode][fold_num][lr][order][iters] = e[iters]"
   ]
  },
  {
   "cell_type": "code",
   "execution_count": 96,
   "metadata": {},
   "outputs": [],
   "source": [
    "error = {}\n",
    "for mode in [3, 10, 14]:\n",
    "    error[mode] = {}\n",
    "    for fold_num in range(5):\n",
    "        error[mode][fold_num] = {}\n",
    "        for lr in [0.001 ,0.01, 0.1, 1.0]:\n",
    "            error[mode][fold_num][lr] = {}\n",
    "            for order in test_error[mode][fold_num][lr].keys():\n",
    "                error[mode][fold_num][lr][order] = {}\n",
    "                for iters in range(1000, 20001, 1000):\n",
    "                    apps = test_error[mode][fold_num][lr][order][iters].keys()\n",
    "                    error[mode][fold_num][lr][order][iters] = 0\n",
    "                    for k in apps:\n",
    "                        error[mode][fold_num][lr][order][iters] += test_error[mode][fold_num][lr][order][iters][k]/appliance_contri[k]"
   ]
  },
  {
   "cell_type": "code",
   "execution_count": 97,
   "metadata": {},
   "outputs": [],
   "source": [
    "b_error = {}\n",
    "for mode in [3, 10, 14]:\n",
    "    b_error[mode] = {}\n",
    "    for fold_num in range(5):\n",
    "        b_error[mode][fold_num] = {}\n",
    "        for lr in [0.001 ,0.01, 0.1, 1.0]:\n",
    "            b_error[mode][fold_num][lr] = {}\n",
    "            for order in test_error[mode][fold_num][lr].keys():\n",
    "                b_error[mode][fold_num][lr][order] = pd.Series(error[mode][fold_num][lr][order]).min()"
   ]
  },
  {
   "cell_type": "code",
   "execution_count": 98,
   "metadata": {},
   "outputs": [],
   "source": [
    "mean = {}\n",
    "for mode in [3, 10, 14]:\n",
    "    mean[mode] = 0\n",
    "\n",
    "    for fold in range(5):\n",
    "        mean[mode] += pd.DataFrame(b_error[mode][fold])"
   ]
  },
  {
   "cell_type": "code",
   "execution_count": 102,
   "metadata": {},
   "outputs": [
    {
     "data": {
      "text/html": [
       "<div>\n",
       "<style scoped>\n",
       "    .dataframe tbody tr th:only-of-type {\n",
       "        vertical-align: middle;\n",
       "    }\n",
       "\n",
       "    .dataframe tbody tr th {\n",
       "        vertical-align: top;\n",
       "    }\n",
       "\n",
       "    .dataframe thead th {\n",
       "        text-align: right;\n",
       "    }\n",
       "</style>\n",
       "<table border=\"1\" class=\"dataframe\">\n",
       "  <thead>\n",
       "    <tr style=\"text-align: right;\">\n",
       "      <th></th>\n",
       "      <th></th>\n",
       "      <th></th>\n",
       "      <th></th>\n",
       "      <th>0.001</th>\n",
       "      <th>0.01</th>\n",
       "      <th>0.1</th>\n",
       "      <th>1.0</th>\n",
       "    </tr>\n",
       "  </thead>\n",
       "  <tbody>\n",
       "    <tr>\n",
       "      <th rowspan=\"2\" valign=\"top\">dw</th>\n",
       "      <th rowspan=\"2\" valign=\"top\">hvac</th>\n",
       "      <th rowspan=\"2\" valign=\"top\">fridge</th>\n",
       "      <th>dr</th>\n",
       "      <td>12581.281925</td>\n",
       "      <td>NaN</td>\n",
       "      <td>12547.910689</td>\n",
       "      <td>12039.001233</td>\n",
       "    </tr>\n",
       "    <tr>\n",
       "      <th>mw</th>\n",
       "      <td>NaN</td>\n",
       "      <td>NaN</td>\n",
       "      <td>NaN</td>\n",
       "      <td>NaN</td>\n",
       "    </tr>\n",
       "    <tr>\n",
       "      <th rowspan=\"4\" valign=\"top\">fridge</th>\n",
       "      <th rowspan=\"4\" valign=\"top\">hvac</th>\n",
       "      <th rowspan=\"2\" valign=\"top\">dr</th>\n",
       "      <th>dw</th>\n",
       "      <td>12615.495601</td>\n",
       "      <td>NaN</td>\n",
       "      <td>12998.490154</td>\n",
       "      <td>12067.729948</td>\n",
       "    </tr>\n",
       "    <tr>\n",
       "      <th>mw</th>\n",
       "      <td>NaN</td>\n",
       "      <td>NaN</td>\n",
       "      <td>NaN</td>\n",
       "      <td>NaN</td>\n",
       "    </tr>\n",
       "    <tr>\n",
       "      <th rowspan=\"2\" valign=\"top\">dw</th>\n",
       "      <th>dr</th>\n",
       "      <td>12551.618646</td>\n",
       "      <td>NaN</td>\n",
       "      <td>12680.074469</td>\n",
       "      <td>11917.862976</td>\n",
       "    </tr>\n",
       "    <tr>\n",
       "      <th>mw</th>\n",
       "      <td>NaN</td>\n",
       "      <td>NaN</td>\n",
       "      <td>NaN</td>\n",
       "      <td>NaN</td>\n",
       "    </tr>\n",
       "  </tbody>\n",
       "</table>\n",
       "</div>"
      ],
      "text/plain": [
       "                              0.001  0.010         0.100         1.000\n",
       "dw     hvac fridge dr  12581.281925    NaN  12547.910689  12039.001233\n",
       "                   mw           NaN    NaN           NaN           NaN\n",
       "fridge hvac dr     dw  12615.495601    NaN  12998.490154  12067.729948\n",
       "                   mw           NaN    NaN           NaN           NaN\n",
       "            dw     dr  12551.618646    NaN  12680.074469  11917.862976\n",
       "                   mw           NaN    NaN           NaN           NaN"
      ]
     },
     "execution_count": 102,
     "metadata": {},
     "output_type": "execute_result"
    }
   ],
   "source": [
    "mean[14][mean[14] < 13000]"
   ]
  },
  {
   "cell_type": "code",
   "execution_count": 105,
   "metadata": {},
   "outputs": [],
   "source": [
    "gid = 0\n",
    "srv = 8\n",
    "c = 0\n",
    "k = 0\n",
    "dataset = 1\n",
    "test_error = {}\n",
    "for mode in [3, 10, 14]:\n",
    "    test_error[mode] = {}\n",
    "    for fold_num in range(5):\n",
    "        test_error[mode][fold_num] = {}\n",
    "        for lr in [0.001, 0.01, 0.1, 1.0]:\n",
    "            test_error[mode][fold_num][lr] = {}\n",
    "            \n",
    "            for order in list(itertools.permutations(['hvac', 'fridge', 'dr', 'dw', 'mw'], 5)):\n",
    "                if (order[0] == 'dw' and order[1] == 'hvac' and order[2] == 'fridge' and order[3] == 'dr') or (order[0] == 'fridge' and order[1] == 'hvac' and order[2] == 'dw' and order[3] == 'dr') or (order[0] == 'fridge' and order[1] == 'hvac' and order[2] == 'dr' and order[3] == 'dw'):\n",
    "\n",
    "                    \n",
    "#                     continue\n",
    "                    f_name = '{}_7'.format(mode)\n",
    "                    o = \"\\', \\'\".join(str(x) for x in order)\n",
    "                    directory = \"../code/baseline/cnn-tree/{}/{}/{}/{}/5000/0.0/\".format(f_name, dataset, fold_num, lr)\n",
    "                    filename = \"valid-error-[\\'{}\\'].npy\".format(o)\n",
    "                    full_path = directory + filename\n",
    "                    my_file = Path(full_path)\n",
    "                    e = np.load(full_path).item()\n",
    "                    test_error[mode][fold_num][lr][order] = {}\n",
    "                    for iters in range(1000, 5001, 1000):\n",
    "                        test_error[mode][fold_num][lr][order][iters] = e[iters]"
   ]
  },
  {
   "cell_type": "code",
   "execution_count": 106,
   "metadata": {},
   "outputs": [],
   "source": [
    "error = {}\n",
    "for mode in [3, 10, 14]:\n",
    "    error[mode] = {}\n",
    "    for fold_num in range(5):\n",
    "        error[mode][fold_num] = {}\n",
    "        for lr in [0.001 ,0.01, 0.1, 1.0]:\n",
    "            error[mode][fold_num][lr] = {}\n",
    "            for order in test_error[mode][fold_num][lr].keys():\n",
    "                error[mode][fold_num][lr][order] = {}\n",
    "                for iters in range(1000, 5001, 1000):\n",
    "                    apps = test_error[mode][fold_num][lr][order][iters].keys()\n",
    "                    error[mode][fold_num][lr][order][iters] = 0\n",
    "                    for k in apps:\n",
    "                        error[mode][fold_num][lr][order][iters] += test_error[mode][fold_num][lr][order][iters][k]/appliance_contri[k]"
   ]
  },
  {
   "cell_type": "code",
   "execution_count": 107,
   "metadata": {},
   "outputs": [],
   "source": [
    "b_error = {}\n",
    "for mode in [3, 10, 14]:\n",
    "    b_error[mode] = {}\n",
    "    for fold_num in range(5):\n",
    "        b_error[mode][fold_num] = {}\n",
    "        for lr in [0.001 ,0.01, 0.1, 1.0]:\n",
    "            b_error[mode][fold_num][lr] = {}\n",
    "            for order in test_error[mode][fold_num][lr].keys():\n",
    "                b_error[mode][fold_num][lr][order] = pd.Series(error[mode][fold_num][lr][order]).min()"
   ]
  },
  {
   "cell_type": "code",
   "execution_count": 113,
   "metadata": {},
   "outputs": [],
   "source": [
    "mean = {}\n",
    "for mode in [3, 10, 14]:\n",
    "    mean[mode] = 0\n",
    "\n",
    "    for fold in range(5):\n",
    "        mean[mode] += pd.DataFrame(b_error[mode][fold])"
   ]
  },
  {
   "cell_type": "code",
   "execution_count": 140,
   "metadata": {},
   "outputs": [
    {
     "data": {
      "text/html": [
       "<div>\n",
       "<style scoped>\n",
       "    .dataframe tbody tr th:only-of-type {\n",
       "        vertical-align: middle;\n",
       "    }\n",
       "\n",
       "    .dataframe tbody tr th {\n",
       "        vertical-align: top;\n",
       "    }\n",
       "\n",
       "    .dataframe thead th {\n",
       "        text-align: right;\n",
       "    }\n",
       "</style>\n",
       "<table border=\"1\" class=\"dataframe\">\n",
       "  <thead>\n",
       "    <tr style=\"text-align: right;\">\n",
       "      <th></th>\n",
       "      <th></th>\n",
       "      <th></th>\n",
       "      <th></th>\n",
       "      <th></th>\n",
       "      <th>0.001</th>\n",
       "      <th>0.01</th>\n",
       "      <th>0.1</th>\n",
       "      <th>1.0</th>\n",
       "    </tr>\n",
       "  </thead>\n",
       "  <tbody>\n",
       "    <tr>\n",
       "      <th>dw</th>\n",
       "      <th>hvac</th>\n",
       "      <th>fridge</th>\n",
       "      <th>dr</th>\n",
       "      <th>mw</th>\n",
       "      <td>19830.638923</td>\n",
       "      <td>21051.438581</td>\n",
       "      <td>18997.515880</td>\n",
       "      <td>18977.701112</td>\n",
       "    </tr>\n",
       "    <tr>\n",
       "      <th rowspan=\"2\" valign=\"top\">fridge</th>\n",
       "      <th rowspan=\"2\" valign=\"top\">hvac</th>\n",
       "      <th>dr</th>\n",
       "      <th>dw</th>\n",
       "      <th>mw</th>\n",
       "      <td>19772.764651</td>\n",
       "      <td>20372.383656</td>\n",
       "      <td>19700.720492</td>\n",
       "      <td>18889.790791</td>\n",
       "    </tr>\n",
       "    <tr>\n",
       "      <th>dw</th>\n",
       "      <th>dr</th>\n",
       "      <th>mw</th>\n",
       "      <td>19523.941693</td>\n",
       "      <td>20634.464784</td>\n",
       "      <td>18912.952320</td>\n",
       "      <td>18908.620774</td>\n",
       "    </tr>\n",
       "  </tbody>\n",
       "</table>\n",
       "</div>"
      ],
      "text/plain": [
       "                                 0.001         0.010         0.100  \\\n",
       "dw     hvac fridge dr mw  19830.638923  21051.438581  18997.515880   \n",
       "fridge hvac dr     dw mw  19772.764651  20372.383656  19700.720492   \n",
       "            dw     dr mw  19523.941693  20634.464784  18912.952320   \n",
       "\n",
       "                                 1.000  \n",
       "dw     hvac fridge dr mw  18977.701112  \n",
       "fridge hvac dr     dw mw  18889.790791  \n",
       "            dw     dr mw  18908.620774  "
      ]
     },
     "execution_count": 140,
     "metadata": {},
     "output_type": "execute_result"
    }
   ],
   "source": [
    "mean[14]"
   ]
  },
  {
   "cell_type": "code",
   "execution_count": 141,
   "metadata": {},
   "outputs": [],
   "source": [
    "k = {}\n",
    "for i in range(5):\n",
    "    k[i] = pd.DataFrame(test_error[14][i][1.0][('fridge', 'hvac', 'dr', 'dw', 'mw')]).min(axis=1).mean()"
   ]
  },
  {
   "cell_type": "code",
   "execution_count": 142,
   "metadata": {},
   "outputs": [
    {
     "data": {
      "text/plain": [
       "58.7451622960607"
      ]
     },
     "execution_count": 142,
     "metadata": {},
     "output_type": "execute_result"
    }
   ],
   "source": [
    "pd.Series(k).mean()"
   ]
  },
  {
   "cell_type": "code",
   "execution_count": 62,
   "metadata": {},
   "outputs": [
    {
     "ename": "KeyError",
     "evalue": "0",
     "output_type": "error",
     "traceback": [
      "\u001b[0;31m---------------------------------------------------------------------------\u001b[0m",
      "\u001b[0;31mKeyError\u001b[0m                                  Traceback (most recent call last)",
      "\u001b[0;32m<ipython-input-62-162bc087f11b>\u001b[0m in \u001b[0;36m<module>\u001b[0;34m\u001b[0m\n\u001b[1;32m      2\u001b[0m \u001b[0;32mfor\u001b[0m \u001b[0mmode\u001b[0m \u001b[0;32min\u001b[0m \u001b[0;34m[\u001b[0m\u001b[0;36m3\u001b[0m\u001b[0;34m,\u001b[0m \u001b[0;36m7\u001b[0m\u001b[0;34m,\u001b[0m \u001b[0;36m8\u001b[0m\u001b[0;34m,\u001b[0m \u001b[0;36m12\u001b[0m\u001b[0;34m]\u001b[0m\u001b[0;34m:\u001b[0m\u001b[0;34m\u001b[0m\u001b[0m\n\u001b[1;32m      3\u001b[0m     \u001b[0;32mfor\u001b[0m \u001b[0mfold_num\u001b[0m \u001b[0;32min\u001b[0m \u001b[0mrange\u001b[0m\u001b[0;34m(\u001b[0m\u001b[0;36m5\u001b[0m\u001b[0;34m)\u001b[0m\u001b[0;34m:\u001b[0m\u001b[0;34m\u001b[0m\u001b[0m\n\u001b[0;32m----> 4\u001b[0;31m         \u001b[0mc\u001b[0m \u001b[0;34m=\u001b[0m \u001b[0mpd\u001b[0m\u001b[0;34m.\u001b[0m\u001b[0mDataFrame\u001b[0m\u001b[0;34m(\u001b[0m\u001b[0mb_error\u001b[0m\u001b[0;34m[\u001b[0m\u001b[0mfold_num\u001b[0m\u001b[0;34m]\u001b[0m\u001b[0;34m)\u001b[0m\u001b[0;34m.\u001b[0m\u001b[0mT\u001b[0m\u001b[0;34m.\u001b[0m\u001b[0mmin\u001b[0m\u001b[0;34m(\u001b[0m\u001b[0;34m)\u001b[0m\u001b[0;34m.\u001b[0m\u001b[0mnsmallest\u001b[0m\u001b[0;34m(\u001b[0m\u001b[0;36m3\u001b[0m\u001b[0;34m)\u001b[0m\u001b[0;34m.\u001b[0m\u001b[0mkeys\u001b[0m\u001b[0;34m(\u001b[0m\u001b[0;34m)\u001b[0m\u001b[0;34m\u001b[0m\u001b[0m\n\u001b[0m\u001b[1;32m      5\u001b[0m         \u001b[0mcand\u001b[0m\u001b[0;34m[\u001b[0m\u001b[0mfold_num\u001b[0m\u001b[0;34m]\u001b[0m \u001b[0;34m=\u001b[0m \u001b[0;34m[\u001b[0m\u001b[0;34m]\u001b[0m\u001b[0;34m\u001b[0m\u001b[0m\n\u001b[1;32m      6\u001b[0m         \u001b[0;32mfor\u001b[0m \u001b[0mo\u001b[0m \u001b[0;32min\u001b[0m \u001b[0mc\u001b[0m\u001b[0;34m:\u001b[0m\u001b[0;34m\u001b[0m\u001b[0m\n",
      "\u001b[0;31mKeyError\u001b[0m: 0"
     ]
    }
   ],
   "source": [
    "cand = {}\n",
    "for mode in [3, 7, 8, 12]:\n",
    "    for fold_num in range(5):\n",
    "        c = pd.DataFrame(b_error[fold_num]).T.min().nsmallest(3).keys()\n",
    "        cand[fold_num] = []\n",
    "        for o in c:\n",
    "            k = [x for x in APPLIANCE_ORDER[1:-1] if x not in o]\n",
    "            a = o + (k[0],)\n",
    "            cand[fold_num].append(a)"
   ]
  },
  {
   "cell_type": "code",
   "execution_count": 58,
   "metadata": {},
   "outputs": [
    {
     "data": {
      "text/html": [
       "<div>\n",
       "<style scoped>\n",
       "    .dataframe tbody tr th:only-of-type {\n",
       "        vertical-align: middle;\n",
       "    }\n",
       "\n",
       "    .dataframe tbody tr th {\n",
       "        vertical-align: top;\n",
       "    }\n",
       "\n",
       "    .dataframe thead th {\n",
       "        text-align: right;\n",
       "    }\n",
       "</style>\n",
       "<table border=\"1\" class=\"dataframe\">\n",
       "  <thead>\n",
       "    <tr style=\"text-align: right;\">\n",
       "      <th></th>\n",
       "      <th></th>\n",
       "      <th></th>\n",
       "      <th>0.001</th>\n",
       "      <th>0.01</th>\n",
       "      <th>0.1</th>\n",
       "      <th>1.0</th>\n",
       "    </tr>\n",
       "  </thead>\n",
       "  <tbody>\n",
       "    <tr>\n",
       "      <th>dw</th>\n",
       "      <th>hvac</th>\n",
       "      <th>fridge</th>\n",
       "      <td>6790.599289</td>\n",
       "      <td>6683.820190</td>\n",
       "      <td>6641.279107</td>\n",
       "      <td>6532.560267</td>\n",
       "    </tr>\n",
       "    <tr>\n",
       "      <th>fridge</th>\n",
       "      <th>hvac</th>\n",
       "      <th>dw</th>\n",
       "      <td>6433.325371</td>\n",
       "      <td>6438.447413</td>\n",
       "      <td>6388.461021</td>\n",
       "      <td>6477.635545</td>\n",
       "    </tr>\n",
       "    <tr>\n",
       "      <th>hvac</th>\n",
       "      <th>fridge</th>\n",
       "      <th>dw</th>\n",
       "      <td>6811.548868</td>\n",
       "      <td>6681.094210</td>\n",
       "      <td>6688.810983</td>\n",
       "      <td>6557.817271</td>\n",
       "    </tr>\n",
       "  </tbody>\n",
       "</table>\n",
       "</div>"
      ],
      "text/plain": [
       "                            0.001        0.010        0.100        1.000\n",
       "dw     hvac   fridge  6790.599289  6683.820190  6641.279107  6532.560267\n",
       "fridge hvac   dw      6433.325371  6438.447413  6388.461021  6477.635545\n",
       "hvac   fridge dw      6811.548868  6681.094210  6688.810983  6557.817271"
      ]
     },
     "execution_count": 58,
     "metadata": {},
     "output_type": "execute_result"
    }
   ],
   "source": [
    "mean[3]"
   ]
  },
  {
   "cell_type": "code",
   "execution_count": 222,
   "metadata": {},
   "outputs": [
    {
     "data": {
      "text/plain": [
       "[('dw', 'fridge', 'hvac', 'dr'),\n",
       " ('fridge', 'hvac', 'dw', 'dr'),\n",
       " ('hvac', 'fridge', 'dw', 'dr')]"
      ]
     },
     "execution_count": 222,
     "metadata": {},
     "output_type": "execute_result"
    }
   ],
   "source": [
    "cand[4]"
   ]
  },
  {
   "cell_type": "code",
   "execution_count": 213,
   "metadata": {},
   "outputs": [
    {
     "name": "stdout",
     "output_type": "stream",
     "text": [
      "CUDA_VISIBLE_DEVICES=0 python cnn-tree.py 3 0.01 20000 0.0 0 dw hvac fridge dr &\n",
      "CUDA_VISIBLE_DEVICES=1 python cnn-tree.py 3 0.01 20000 0.0 0 fridge hvac dw dr &\n",
      "CUDA_VISIBLE_DEVICES=2 python cnn-tree.py 3 0.01 20000 0.0 0 hvac fridge dw dr &\n",
      "CUDA_VISIBLE_DEVICES=3 python cnn-tree.py 3 0.001 20000 0.0 0 dw hvac fridge dr &\n",
      "CUDA_VISIBLE_DEVICES=0 python cnn-tree.py 3 0.001 20000 0.0 0 fridge hvac dw dr &\n",
      "CUDA_VISIBLE_DEVICES=1 python cnn-tree.py 3 0.001 20000 0.0 0 hvac fridge dw dr &\n",
      "CUDA_VISIBLE_DEVICES=2 python cnn-tree.py 3 0.1 20000 0.0 0 dw hvac fridge dr &\n",
      "CUDA_VISIBLE_DEVICES=3 python cnn-tree.py 3 0.1 20000 0.0 0 fridge hvac dw dr &\n",
      "CUDA_VISIBLE_DEVICES=0 python cnn-tree.py 3 0.1 20000 0.0 0 hvac fridge dw dr &\n",
      "CUDA_VISIBLE_DEVICES=1 python cnn-tree.py 3 0.01 20000 0.0 1 dr hvac fridge dw &\n",
      "CUDA_VISIBLE_DEVICES=2 python cnn-tree.py 3 0.001 20000 0.0 1 dr hvac fridge dw &\n",
      "CUDA_VISIBLE_DEVICES=3 python cnn-tree.py 3 0.1 20000 0.0 1 dr hvac fridge dw &\n",
      "CUDA_VISIBLE_DEVICES=0 python cnn-tree.py 3 0.01 20000 0.0 2 fridge hvac mw dr &\n",
      "CUDA_VISIBLE_DEVICES=1 python cnn-tree.py 3 0.01 20000 0.0 2 hvac fridge mw dr &\n",
      "CUDA_VISIBLE_DEVICES=2 python cnn-tree.py 3 0.001 20000 0.0 2 fridge hvac mw dr &\n",
      "CUDA_VISIBLE_DEVICES=3 python cnn-tree.py 3 0.001 20000 0.0 2 hvac fridge mw dr &\n",
      "CUDA_VISIBLE_DEVICES=0 python cnn-tree.py 3 0.1 20000 0.0 2 fridge hvac mw dr &\n",
      "CUDA_VISIBLE_DEVICES=1 python cnn-tree.py 3 0.1 20000 0.0 2 hvac fridge mw dr &\n",
      "CUDA_VISIBLE_DEVICES=2 python cnn-tree.py 3 0.01 20000 0.0 3 fridge hvac mw dr &\n",
      "CUDA_VISIBLE_DEVICES=3 python cnn-tree.py 3 0.01 20000 0.0 3 hvac fridge mw dr &\n",
      "CUDA_VISIBLE_DEVICES=0 python cnn-tree.py 3 0.001 20000 0.0 3 fridge hvac mw dr &\n",
      "CUDA_VISIBLE_DEVICES=1 python cnn-tree.py 3 0.001 20000 0.0 3 hvac fridge mw dr &\n",
      "CUDA_VISIBLE_DEVICES=2 python cnn-tree.py 3 0.1 20000 0.0 3 fridge hvac mw dr &\n",
      "CUDA_VISIBLE_DEVICES=3 python cnn-tree.py 3 0.1 20000 0.0 3 hvac fridge mw dr &\n",
      "CUDA_VISIBLE_DEVICES=0 python cnn-tree.py 3 0.01 20000 0.0 4 dw fridge hvac dr &\n",
      "CUDA_VISIBLE_DEVICES=1 python cnn-tree.py 3 0.01 20000 0.0 4 fridge hvac dw dr &\n",
      "CUDA_VISIBLE_DEVICES=2 python cnn-tree.py 3 0.01 20000 0.0 4 hvac fridge dw dr &\n",
      "CUDA_VISIBLE_DEVICES=3 python cnn-tree.py 3 0.001 20000 0.0 4 dw fridge hvac dr &\n",
      "CUDA_VISIBLE_DEVICES=0 python cnn-tree.py 3 0.001 20000 0.0 4 fridge hvac dw dr &\n",
      "CUDA_VISIBLE_DEVICES=1 python cnn-tree.py 3 0.001 20000 0.0 4 hvac fridge dw dr &\n",
      "CUDA_VISIBLE_DEVICES=2 python cnn-tree.py 3 0.1 20000 0.0 4 dw fridge hvac dr &\n",
      "CUDA_VISIBLE_DEVICES=3 python cnn-tree.py 3 0.1 20000 0.0 4 fridge hvac dw dr &\n",
      "CUDA_VISIBLE_DEVICES=0 python cnn-tree.py 3 0.1 20000 0.0 4 hvac fridge dw dr &\n"
     ]
    }
   ],
   "source": [
    "gid = 0\n",
    "srv = 8\n",
    "c = 0\n",
    "k = 0\n",
    "dataset = 3\n",
    "test_error = {}\n",
    "for fold_num in range(5):\n",
    "    test_error[fold_num] = {}\n",
    "    for lr in [0.01, 0.001, 0.1]:\n",
    "        test_error[fold_num][lr] = {}\n",
    "        for iters in [20000]:\n",
    "            for order in cand[fold_num]:\n",
    "                for p in [0.0]:\n",
    "                    \n",
    "                    try:\n",
    "                        o = \"\\', \\'\".join(str(x) for x in order)\n",
    "                        \n",
    "                        directory = \"../code/baseline/cnn-tree/{}/{}/{}/{}/{}/\".format(dataset, fold_num, lr, iters, p)\n",
    "                        filename = \"test-error-[\\'{}\\'].npy\".format(o)\n",
    "#                         print(filename)\n",
    "                        full_path = directory + filename\n",
    "                        my_file = Path(full_path)\n",
    "#                         print(full_path)\n",
    "                        e = np.load(full_path).item()\n",
    "                        test_error[fold_num][lr][order] = {}\n",
    "                        for iters in range(1000, 20001, 1000):\n",
    "                            test_error[fold_num][lr][order][iters] = e[iters]\n",
    "                    except:\n",
    "                        o = \" \".join(str(x) for x in order)\n",
    "                        line = (\"CUDA_VISIBLE_DEVICES={} python cnn-tree.py 3 {} {} {} {} {} &\".format(gid, lr, 20000, p, fold_num, o))\n",
    "                        print(line)\n",
    "                        gid += 1\n",
    "                        if gid == 4:\n",
    "                            gid = 0"
   ]
  },
  {
   "cell_type": "code",
   "execution_count": 214,
   "metadata": {},
   "outputs": [],
   "source": [
    "error = {}\n",
    "\n",
    "for fold_num in range(5):\n",
    "    error[fold_num] = {}\n",
    "    for lr in [0.01]:\n",
    "        error[fold_num][lr] = {}\n",
    "        for order in test_error[fold_num][lr].keys():\n",
    "            error[fold_num][lr][order] = {}\n",
    "            for iters in range(1000, 20001, 1000):\n",
    "                apps = test_error[fold_num][lr][order][iters].keys()\n",
    "                error[fold_num][lr][order][iters] = 0\n",
    "                for k in apps:\n",
    "                    error[fold_num][lr][order][iters] += test_error[fold_num][lr][order][iters][k]/appliance_contri[k]"
   ]
  },
  {
   "cell_type": "code",
   "execution_count": 215,
   "metadata": {},
   "outputs": [
    {
     "name": "stderr",
     "output_type": "stream",
     "text": [
      "/zf14/yj9xs/anaconda3/lib/python3.6/site-packages/ipykernel_launcher.py:13: FutureWarning: 'argmin' is deprecated. Use 'idxmin' instead. The behavior of 'argmin' will be corrected to return the positional minimum in the future. Use 'series.values.argmin' to get the position of the minimum now.\n",
      "  del sys.path[0]\n"
     ]
    }
   ],
   "source": [
    "b_error = {}\n",
    "iters = {}\n",
    "for fold_num in range(5):\n",
    "    b_error[fold_num] = {}\n",
    "    iters[fold_num] = {}\n",
    "    for lr in [0.01]:\n",
    "        b_error[fold_num][lr] = {}\n",
    "        iters[fold_num][lr] = {}\n",
    "        for order in test_error[fold_num][lr].keys():\n",
    "#             b_error[fold_num][lr][order] = {}\n",
    "#             for iters in range(1000, 100001, 1000):\n",
    "            b_error[fold_num][lr][order] = pd.Series(error[fold_num][lr][order]).min()\n",
    "            iters[fold_num][lr][order] = pd.Series(error[fold_num][lr][order]).argmin()\n",
    "        "
   ]
  },
  {
   "cell_type": "code",
   "execution_count": 216,
   "metadata": {},
   "outputs": [
    {
     "data": {
      "text/html": [
       "<div>\n",
       "<style scoped>\n",
       "    .dataframe tbody tr th:only-of-type {\n",
       "        vertical-align: middle;\n",
       "    }\n",
       "\n",
       "    .dataframe tbody tr th {\n",
       "        vertical-align: top;\n",
       "    }\n",
       "\n",
       "    .dataframe thead th {\n",
       "        text-align: right;\n",
       "    }\n",
       "</style>\n",
       "<table border=\"1\" class=\"dataframe\">\n",
       "  <thead>\n",
       "    <tr style=\"text-align: right;\">\n",
       "      <th></th>\n",
       "      <th></th>\n",
       "      <th></th>\n",
       "      <th></th>\n",
       "      <th>0.01</th>\n",
       "    </tr>\n",
       "  </thead>\n",
       "  <tbody>\n",
       "    <tr>\n",
       "      <th>mw</th>\n",
       "      <th>fridge</th>\n",
       "      <th>hvac</th>\n",
       "      <th>dr</th>\n",
       "      <td>2730.886539</td>\n",
       "    </tr>\n",
       "  </tbody>\n",
       "</table>\n",
       "</div>"
      ],
      "text/plain": [
       "                          0.01\n",
       "mw fridge hvac dr  2730.886539"
      ]
     },
     "execution_count": 216,
     "metadata": {},
     "output_type": "execute_result"
    }
   ],
   "source": [
    "pd.DataFrame(b_error[2])"
   ]
  },
  {
   "cell_type": "code",
   "execution_count": 217,
   "metadata": {},
   "outputs": [
    {
     "data": {
      "text/html": [
       "<div>\n",
       "<style scoped>\n",
       "    .dataframe tbody tr th:only-of-type {\n",
       "        vertical-align: middle;\n",
       "    }\n",
       "\n",
       "    .dataframe tbody tr th {\n",
       "        vertical-align: top;\n",
       "    }\n",
       "\n",
       "    .dataframe thead th {\n",
       "        text-align: right;\n",
       "    }\n",
       "</style>\n",
       "<table border=\"1\" class=\"dataframe\">\n",
       "  <thead>\n",
       "    <tr style=\"text-align: right;\">\n",
       "      <th></th>\n",
       "      <th>0.01</th>\n",
       "    </tr>\n",
       "  </thead>\n",
       "  <tbody>\n",
       "  </tbody>\n",
       "</table>\n",
       "</div>"
      ],
      "text/plain": [
       "Empty DataFrame\n",
       "Columns: [0.01]\n",
       "Index: []"
      ]
     },
     "execution_count": 217,
     "metadata": {},
     "output_type": "execute_result"
    }
   ],
   "source": [
    "pd.DataFrame(iters[0])"
   ]
  },
  {
   "cell_type": "code",
   "execution_count": 225,
   "metadata": {},
   "outputs": [],
   "source": [
    "cnn_tree_params = {}\n",
    "cnn_tree_params[1] = np.load(\"../code/baseline/result/cnn-tree-new-param-1.npy\").item()\n",
    "cnn_tree_params[3] = np.load(\"../code/baseline/result/cnn-tree-final-param-3.npy\").item()"
   ]
  },
  {
   "cell_type": "code",
   "execution_count": 232,
   "metadata": {},
   "outputs": [],
   "source": [
    "# get prediction for cnn tree\n",
    "cnn_tree_error= {}\n",
    "for dataset in [1, 3]:\n",
    "    cnn_tree_error[dataset] = {}\n",
    "    for fold_num in range(5):\n",
    "#         cnn_tree_error[dataset][fold_num] = {}\n",
    "\n",
    "        lr = cnn_tree_params[dataset][fold_num]['lr']\n",
    "        iters = cnn_tree_params[dataset][fold_num]['iters']\n",
    "        order = cnn_tree_params[dataset][fold_num]['order']\n",
    "\n",
    "        o = \"\\', \\'\".join(str(x) for x in order)\n",
    "        directory = \"../code/baseline/cnn-tree/{}/{}/{}/20000/0.0/\".format(dataset, fold_num,lr)\n",
    "        filename = \"test-error-[\\'{}\\'].npy\".format(o)\n",
    "\n",
    "        full_path = directory + filename\n",
    "        cnn_tree_error[dataset][fold_num] = np.load(full_path).item()[iters]\n",
    "\n",
    "#         for idx, appliance in enumerate(order):\n",
    "#             cnn_tree_error[dataset][fold_num][appliance] = cnn_pred[idx]\n",
    "    "
   ]
  },
  {
   "cell_type": "code",
   "execution_count": 240,
   "metadata": {},
   "outputs": [],
   "source": [
    "error = {}\n",
    "error[1] = {}\n",
    "error[1][0] = np.load(\"../code/baseline/cnn-tree/1/0/0.01/20000/0.0/test-error-['dr', 'hvac', 'fridge', 'mw', 'dw'].npy\").item()\n",
    "error[1][1] = np.load(\"../code/baseline/cnn-tree/1/0/0.01/20000/0.0/test-error-['hvac', 'dr', 'fridge', 'dw', 'mw'].npy\").item()\n",
    "error[1][2] = np.load(\"../code/baseline/cnn-tree/1/0/0.01/20000/0.0/test-error-['fridge', 'hvac', 'mw', 'dw', 'dr'].npy\").item()\n",
    "error[1][3] = np.load(\"../code/baseline/cnn-tree/1/0/0.01/20000/0.0/test-error-['hvac', 'mw', 'fridge', 'dw', 'dr'].npy\").item()\n",
    "error[1][4] = np.load(\"../code/baseline/cnn-tree/1/0/0.01/20000/0.0/test-error-['fridge', 'hvac', 'dw', 'mw', 'dr'].npy\").item()"
   ]
  },
  {
   "cell_type": "code",
   "execution_count": 249,
   "metadata": {},
   "outputs": [],
   "source": [
    "k = pd.DataFrame(error[1][0]).mean().min()*14 + pd.DataFrame(error[1][1]).mean().min()*14 + pd.DataFrame(error[1][2]).mean().min()*14 + pd.DataFrame(error[1][3]).mean().min()*13 + pd.DataFrame(error[1][4]).mean().min()*13"
   ]
  },
  {
   "cell_type": "code",
   "execution_count": 250,
   "metadata": {},
   "outputs": [
    {
     "data": {
      "text/plain": [
       "62.03123642656481"
      ]
     },
     "execution_count": 250,
     "metadata": {},
     "output_type": "execute_result"
    }
   ],
   "source": [
    "k/68"
   ]
  },
  {
   "cell_type": "code",
   "execution_count": 257,
   "metadata": {
    "collapsed": true
   },
   "outputs": [],
   "source": [
    "error = {}\n",
    "error[1] = {}\n",
    "error[1][0] = np.load(\"../code/baseline/cnn-tree/3/0/0.01/20000/0.0/test-error-['dw', 'hvac', 'fridge', 'dr', 'mw'].npy\").item()\n",
    "error[1][1] = np.load(\"../code/baseline/cnn-tree/3/0/0.01/20000/0.0/test-error-['fridge', 'hvac', 'dr', 'dw', 'mw'].npy\").item()\n",
    "error[1][2] = np.load(\"../code/baseline/cnn-tree/3/0/0.01/20000/0.0/test-error-['mw', 'fridge', 'hvac', 'dr', 'dw'].npy\").item()\n",
    "error[1][3] = np.load(\"../code/baseline/cnn-tree/3/0/0.01/20000/0.0/test-error-['hvac', 'fridge', 'mw', 'dr', 'dw'].npy\").item()\n",
    "error[1][4] = np.load(\"../code/baseline/cnn-tree/3/0/0.01/20000/0.0/test-error-['fridge', 'hvac', 'dw', 'dr', 'mw'].npy\").item()"
   ]
  },
  {
   "cell_type": "code",
   "execution_count": 258,
   "metadata": {
    "collapsed": true
   },
   "outputs": [],
   "source": [
    "k = pd.DataFrame(error[1][0]).mean().min()*14 + pd.DataFrame(error[1][1]).mean().min()*14 + pd.DataFrame(error[1][2]).mean().min()*14 + pd.DataFrame(error[1][3]).mean().min()*13 + pd.DataFrame(error[1][4]).mean().min()*13"
   ]
  },
  {
   "cell_type": "code",
   "execution_count": 264,
   "metadata": {},
   "outputs": [
    {
     "data": {
      "text/plain": [
       "77.416244615561567"
      ]
     },
     "execution_count": 264,
     "metadata": {},
     "output_type": "execute_result"
    }
   ],
   "source": [
    "pd.DataFrame(error[1][1]).mean().min()"
   ]
  }
 ],
 "metadata": {
  "kernelspec": {
   "display_name": "Python [default]",
   "language": "python",
   "name": "python3"
  },
  "language_info": {
   "codemirror_mode": {
    "name": "ipython",
    "version": 3
   },
   "file_extension": ".py",
   "mimetype": "text/x-python",
   "name": "python",
   "nbconvert_exporter": "python",
   "pygments_lexer": "ipython3",
   "version": "3.6.6"
  }
 },
 "nbformat": 4,
 "nbformat_minor": 2
}
